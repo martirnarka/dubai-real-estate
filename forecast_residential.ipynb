{
 "cells": [
  {
   "cell_type": "code",
   "execution_count": null,
   "id": "a58e9dade66ac3ff",
   "metadata": {
    "ExecuteTime": {
     "end_time": "2024-06-14T08:39:22.743257Z",
     "start_time": "2024-06-14T08:39:22.450835Z"
    }
   },
   "outputs": [],
   "source": [
    "import pandas as pd\n",
    "from sklearn.metrics import mean_absolute_error, mean_squared_error\n",
    "import numpy as np"
   ]
  },
  {
   "cell_type": "code",
   "execution_count": null,
   "id": "ec96714671ee163a",
   "metadata": {
    "ExecuteTime": {
     "end_time": "2024-06-14T08:39:34.464121Z",
     "start_time": "2024-06-14T08:39:23.548992Z"
    }
   },
   "outputs": [],
   "source": [
    "# Load and clean the data\n",
    "data = pd.read_csv('properties_with_distances.csv')\n",
    "data.dropna(subset=['meter_sale_price'], inplace=True)  # Ensure there are no NaN values in target variable"
   ]
  },
  {
   "cell_type": "markdown",
   "id": "fd7e19d62dff2ed6",
   "metadata": {
    "collapsed": false
   },
   "source": [
    "Берем только продажи"
   ]
  },
  {
   "cell_type": "code",
   "execution_count": null,
   "id": "b7fdc085c935657c",
   "metadata": {
    "ExecuteTime": {
     "end_time": "2024-06-14T08:39:36.346229Z",
     "start_time": "2024-06-14T08:39:34.466632Z"
    }
   },
   "outputs": [],
   "source": [
    "processing_data = data.loc[data['trans_group_id'] == 1][['meter_sale_price', 'property_type_en', 'instance_date', 'property_sub_type_en', 'property_usage_en', 'rooms_en', 'procedure_area', 'has_parking', 'distance_to_center', 'area_name_en']]\n",
    "\n",
    "area_rating = pd.read_csv('residential_area_rating.csv')\n",
    "\n",
    "processing_data = processing_data.merge(area_rating, on='area_name_en', how='left')\n",
    "\n",
    "processing_data['instance_date'] = pd.to_datetime(processing_data['instance_date'], format='%d-%m-%Y')\n",
    "processing_data.set_index('instance_date', inplace=True)\n",
    "\n",
    "processing_data"
   ]
  },
  {
   "cell_type": "code",
   "execution_count": null,
   "id": "b3c1773e0f30b334",
   "metadata": {
    "ExecuteTime": {
     "end_time": "2024-06-14T08:42:19.779073Z",
     "start_time": "2024-06-14T08:42:19.775484Z"
    }
   },
   "outputs": [],
   "source": [
    "import matplotlib.pyplot as plt\n",
    "import seaborn as sns"
   ]
  },
  {
   "cell_type": "code",
   "execution_count": null,
   "id": "ee25dc8dd3044a66",
   "metadata": {
    "ExecuteTime": {
     "end_time": "2024-06-14T08:42:21.201770Z",
     "start_time": "2024-06-14T08:42:20.976926Z"
    }
   },
   "outputs": [],
   "source": [
    "model_data = processing_data[processing_data.index > '2000-01-01']\n",
    "processing_data.index = pd.DatetimeIndex(processing_data.index).to_period('M')\n",
    "\n",
    "# model_data = model_data[model_data['meter_sale_price'] < 175000]\n",
    "processing_data"
   ]
  },
  {
   "cell_type": "code",
   "execution_count": null,
   "id": "e2b3ce185cf3f917",
   "metadata": {
    "ExecuteTime": {
     "end_time": "2024-06-14T08:42:24.377914Z",
     "start_time": "2024-06-14T08:42:23.782077Z"
    }
   },
   "outputs": [],
   "source": [
    "sarimax_residential_data = model_data[model_data['property_usage_en'] == 'Residential'][['meter_sale_price', 'property_type_en', 'rooms_en', 'has_parking', 'distance_to_center', 'area_rating']]\n",
    "\n",
    "def room_count(value):\n",
    "    mapping = {\n",
    "        '1 B/R': 1,\n",
    "        '2 B/R': 2,\n",
    "        'Studio': 1,\n",
    "        '3 B/R': 3,\n",
    "        '4 B/R': 4,\n",
    "        '5 B/R': 5,\n",
    "        'PENTHOUSE': 10,\n",
    "        'Single Room': 1,\n",
    "        '6 B/R': 6,\n",
    "        'Shop': 0\n",
    "    }\n",
    "    return mapping.get(value, 0) \n",
    "\n",
    "sarimax_residential_data['rooms'] = sarimax_residential_data['rooms_en'].apply(room_count)\n",
    "\n",
    "sarimax_residential_data"
   ]
  },
  {
   "cell_type": "code",
   "execution_count": null,
   "id": "ffeea012c6d92fc0",
   "metadata": {
    "ExecuteTime": {
     "end_time": "2024-06-14T08:42:26.374113Z",
     "start_time": "2024-06-14T08:42:26.328497Z"
    }
   },
   "outputs": [],
   "source": [
    "sarimax_full_data = sarimax_residential_data[['meter_sale_price', 'rooms', 'has_parking', 'distance_to_center', 'area_rating']][sarimax_residential_data.index > '2000-01-01']\n",
    "\n",
    "sarimax_full_data"
   ]
  },
  {
   "cell_type": "code",
   "execution_count": null,
   "id": "7c7b2b056ceb39b0",
   "metadata": {
    "ExecuteTime": {
     "end_time": "2024-06-01T12:05:43.193436Z",
     "start_time": "2024-06-01T12:04:35.396275Z"
    }
   },
   "outputs": [],
   "source": [
    "\n",
    "# Plotting\n",
    "plt.figure(figsize=(12, 8))\n",
    "sns.lineplot(data=sarimax_full_data['meter_sale_price'])\n",
    "plt.title('Meter Sale Price Over Time')\n",
    "plt.xlabel('Date')\n",
    "plt.ylabel('Average Meter Sale Price')\n",
    "plt.xticks(rotation=45)\n",
    "plt.tight_layout()\n",
    "plt.show()\n",
    "\n",
    "len(sarimax_full_data)"
   ]
  },
  {
   "cell_type": "code",
   "execution_count": null,
   "id": "4e0775d27b4e0195",
   "metadata": {
    "ExecuteTime": {
     "end_time": "2024-06-14T08:42:29.414789Z",
     "start_time": "2024-06-14T08:42:29.310683Z"
    }
   },
   "outputs": [],
   "source": [
    "from statsmodels.tsa.stattools import kpss\n",
    "\n",
    "def kpss_test(series, **kw):\n",
    "    statistic, p_value, n_lags, critical_values = kpss(series, **kw)\n",
    "    print(f'KPSS Statistic: {statistic}')\n",
    "    print(f'p-value: {p_value}')\n",
    "    print(f'Number of Lags: {n_lags}')\n",
    "    print('Critical Values:')\n",
    "    for key, value in critical_values.items():\n",
    "        print(f'   {key} : {value}')\n",
    "    return statistic, p_value, n_lags, critical_values\n"
   ]
  },
  {
   "cell_type": "code",
   "execution_count": null,
   "id": "5b3a1afd75413496",
   "metadata": {
    "ExecuteTime": {
     "end_time": "2024-06-14T08:42:31.024464Z",
     "start_time": "2024-06-14T08:42:30.996401Z"
    }
   },
   "outputs": [],
   "source": [
    "cap_value = sarimax_full_data['meter_sale_price'].quantile(0.95)\n",
    "sarimax_full_data = sarimax_full_data[sarimax_full_data['meter_sale_price'] < cap_value]\n",
    "\n",
    "\n",
    "print(cap_value)\n",
    "len(sarimax_full_data)"
   ]
  },
  {
   "cell_type": "code",
   "execution_count": null,
   "id": "a682c4ac3f4115e4",
   "metadata": {},
   "outputs": [],
   "source": [
    "# Plot data without outliers\n",
    "plt.figure(figsize=(14, 8))\n",
    "sns.lineplot(data=sarimax_full_data['meter_sale_price'])\n",
    "plt.title('Meter Sale Price Over Time (Without Outliers)')\n",
    "plt.xlabel('Date')\n",
    "plt.ylabel('Average Meter Sale Price')\n",
    "plt.show()"
   ]
  },
  {
   "cell_type": "code",
   "execution_count": null,
   "id": "8dd5f0b54f23138a",
   "metadata": {
    "ExecuteTime": {
     "end_time": "2024-06-14T08:42:39.043840Z",
     "start_time": "2024-06-14T08:42:37.930956Z"
    }
   },
   "outputs": [],
   "source": [
    "from statsmodels.graphics.tsaplots import plot_acf, plot_pacf\n",
    "from statsmodels.tsa.stattools import adfuller\n",
    "\n",
    "# sarimax_data = pd.get_dummies(sarimax_residential_data[['meter_sale_price', 'property_type_en', 'rooms', 'has_parking', 'distance_to_center']], columns=['property_type_en'], drop_first=False)\n",
    "sarimax_data = sarimax_full_data[['meter_sale_price', 'rooms', 'has_parking', 'distance_to_center', 'area_rating']].resample('ME').mean().dropna()\n",
    "# \n",
    "# \n",
    "# Plotting\n",
    "plt.figure(figsize=(12, 8))\n",
    "sns.lineplot(data=sarimax_data['meter_sale_price'])\n",
    "plt.title('Average Meter Sale Price Over Time')\n",
    "plt.xlabel('Date')\n",
    "plt.ylabel('Average Meter Sale Price')\n",
    "plt.xticks(rotation=45)\n",
    "plt.tight_layout()\n",
    "plt.show()\n",
    "\n",
    "\n",
    "plot_acf(sarimax_data['meter_sale_price'].dropna())\n",
    "plot_pacf(sarimax_data['meter_sale_price'].dropna())\n",
    "plt.show()\n",
    "\n",
    "result = adfuller(sarimax_data['meter_sale_price'])\n",
    "print('ADF Statistic:', result[0])\n",
    "print('p-value:', result[1])\n",
    "if result[1] < 0.05:\n",
    "    print(\"Series is stationary\")\n",
    "else:\n",
    "    print(\"Series is not stationary, differencing might be required\")\n",
    "\n",
    "    \n",
    "kpss_test(sarimax_data['meter_sale_price'])\n",
    "\n",
    "sarimax_data"
   ]
  },
  {
   "cell_type": "code",
   "execution_count": null,
   "id": "26a8dc4d439c1abc",
   "metadata": {
    "ExecuteTime": {
     "end_time": "2024-06-12T09:48:42.047584Z",
     "start_time": "2024-06-12T09:48:41.133080Z"
    }
   },
   "outputs": [],
   "source": [
    "\n",
    "sarimax_data = sarimax_full_data[['meter_sale_price', 'rooms', 'has_parking', 'distance_to_center', 'area_rating']].resample('ME').mean().dropna()\n",
    "\n",
    "# Plotting\n",
    "plt.figure(figsize=(12, 8))\n",
    "sns.lineplot(data=sarimax_data['meter_sale_price'].diff().dropna())\n",
    "plt.title('Average Meter Sale Diff. Price Over Time')\n",
    "plt.xlabel('Date')\n",
    "plt.ylabel('Average Meter Sale Price')\n",
    "plt.xticks(rotation=45)\n",
    "plt.tight_layout()\n",
    "plt.show()\n",
    "\n",
    " \n",
    "plot_acf(sarimax_data['meter_sale_price'].diff().dropna())\n",
    "plot_pacf(sarimax_data['meter_sale_price'].diff().dropna())\n",
    "plt.show()\n",
    "\n",
    "result = adfuller(sarimax_data['meter_sale_price'].diff().dropna())\n",
    "print('ADF Statistic:', result[0])\n",
    "print('p-value:', result[1])\n",
    "if result[1] < 0.05:\n",
    "    print(\"Series is stationary\")\n",
    "else:\n",
    "    print(\"Series is not stationary, differencing might be required\")\n",
    "    \n",
    "sarimax_data"
   ]
  },
  {
   "cell_type": "markdown",
   "id": "35dada248eac56ca",
   "metadata": {
    "collapsed": false
   },
   "source": []
  },
  {
   "cell_type": "code",
   "execution_count": null,
   "id": "db83924d7760800c",
   "metadata": {
    "ExecuteTime": {
     "end_time": "2024-05-30T20:23:13.799227Z",
     "start_time": "2024-05-30T20:23:13.720486Z"
    }
   },
   "outputs": [],
   "source": [
    "kpss_test(sarimax_data['meter_sale_price'].diff().dropna())"
   ]
  },
  {
   "cell_type": "code",
   "execution_count": null,
   "id": "48fc3314cf20f0dd",
   "metadata": {
    "ExecuteTime": {
     "end_time": "2024-06-14T08:43:00.117229Z",
     "start_time": "2024-06-14T08:42:49.150282Z"
    }
   },
   "outputs": [],
   "source": [
    "sarimax_full_data['year'] = sarimax_full_data.index.year\n",
    "# \n",
    "gdp = pd.read_csv('gdp.csv', sep=';')\n",
    "gdp.set_index('year', inplace=True)\n",
    "gdp = gdp['GDP'].to_dict()\n",
    "\n",
    "trade_balance = pd.read_csv('trade_balance.csv')\n",
    "trade_balance.set_index('year', inplace=True)\n",
    "trade_balance = trade_balance['balance'].to_dict()\n",
    "\n",
    "inflation = pd.read_csv('inflation.csv')\n",
    "inflation.set_index('year', inplace=True)\n",
    "inflation = inflation['inflation'].to_dict()\n",
    "\n",
    "exchange_rate = pd.read_csv('aed_to_usd.csv')\n",
    "exchange_rate.set_index('year_month', inplace=True)\n",
    "exchange_rate = exchange_rate['rate'].to_dict()\n",
    "\n",
    "oil = pd.read_csv('Crude Oil WTI Futures Historical Data.csv')\n",
    "oil.set_index('year_month', inplace=True)\n",
    "oil = oil['Price'].to_dict()\n",
    "\n",
    "sarimax_full_data['year_month'] = sarimax_full_data.index.strftime('%Y-%m')\n",
    "\n",
    "sarimax_full_data['gdp'] = sarimax_full_data['year'].apply(lambda row: gdp[row] / 10 ** 9)\n",
    "sarimax_full_data['trade_balance'] = sarimax_full_data['year'].apply(lambda row: trade_balance[row])\n",
    "sarimax_full_data['inflation'] = sarimax_full_data['year'].apply(lambda row: inflation[row])\n",
    "sarimax_full_data['aed_to_usd'] = sarimax_full_data.apply(lambda row: exchange_rate[row['year_month']], axis=1)\n",
    "sarimax_full_data['oil'] = sarimax_full_data.apply(lambda row: oil[row['year_month']], axis=1)\n",
    "\n",
    "sarimax_data = sarimax_full_data[[\n",
    "    'meter_sale_price', \n",
    "    'rooms', \n",
    "    'has_parking', \n",
    "    'distance_to_center', \n",
    "    'area_rating', \n",
    "    'gdp', \n",
    "    'inflation',\n",
    "    'oil',\n",
    "    'aed_to_usd',\n",
    "    'trade_balance',\n",
    "]].resample('ME').mean().dropna()\n",
    "# # \n",
    "\n",
    "# \n",
    "sarimax_data"
   ]
  },
  {
   "cell_type": "code",
   "execution_count": null,
   "id": "b185e53f25f132f5",
   "metadata": {
    "ExecuteTime": {
     "end_time": "2024-06-06T08:58:29.646497Z",
     "start_time": "2024-06-06T08:58:28.488751Z"
    }
   },
   "outputs": [],
   "source": [
    "from statsmodels.tsa.statespace.sarimax import SARIMAX\n",
    "import statsmodels.api as sm\n",
    "\n",
    "train = sarimax_data[[\n",
    "    'meter_sale_price', \n",
    "    'rooms', \n",
    "    'has_parking', \n",
    "    'distance_to_center', \n",
    "    'area_rating', \n",
    "    'gdp', \n",
    "    # 'inflation',\n",
    "    # 'oil',\n",
    "    # 'aed_to_usd',\n",
    "    # 'trade_balance',\n",
    "]]\n",
    "\n",
    "exog_train = train.drop(columns=['meter_sale_price'], axis=1)\n",
    "\n",
    "model = sm.tsa.SARIMAX(train['meter_sale_price'], order=(1, 1, 1), seasonal_order=(0, 0, 0, 0), exog=exog_train)\n",
    "fitted_model = model.fit(method='nm', maxiter=1000, disp=False)\n",
    "\n",
    "summary = fitted_model.summary()\n",
    "\n",
    "coef_table = summary.tables[1].data[1:]\n",
    "\n",
    "coef_data = []\n",
    "for row in coef_table:\n",
    "    variable = row[0]\n",
    "    coef = float(row[1])\n",
    "    std_err = float(row[2])\n",
    "    z_value = float(row[3])\n",
    "    p_value = float(row[4])\n",
    "    t_value = z_value  # для больших выборок z-статистики приблизительно равны t-статистикам\n",
    "    coef_data.append([variable, coef, std_err, t_value, p_value])\n",
    "\n",
    "results_df = pd.DataFrame(coef_data, columns=['Variable', 'Coefficient', 'Std.Err.', 't', 'P>|t|'])\n",
    "\n",
    "# Добавление звездочек для значимости\n",
    "def significance_stars(p):\n",
    "    if p < 0.01:\n",
    "        return '***'\n",
    "    elif p < 0.05:\n",
    "        return '**'\n",
    "    elif p < 0.1:\n",
    "        return '*'\n",
    "    else:\n",
    "        return ''\n",
    "\n",
    "results_df['Significance'] = results_df['P>|t|'].apply(significance_stars)\n",
    "results_df = results_df[['Variable', 'Coefficient', 'Std.Err.', 't', 'P>|t|', 'Significance']]\n",
    "\n",
    "# Печать таблицы\n",
    "print(results_df)\n",
    "\n",
    "# Предсказанные значения\n",
    "y_pred = fitted_model.fittedvalues\n",
    "\n",
    "# Фактические значения\n",
    "y_true = train['meter_sale_price']\n",
    "\n",
    "# Рассчитаем R^2\n",
    "ss_res = np.sum((y_true - y_pred) ** 2)\n",
    "ss_tot = np.sum((y_true - np.mean(y_true)) ** 2)\n",
    "r_squared = 1 - (ss_res / ss_tot)\n",
    "\n",
    "print(f\"R^2 (within): {r_squared:.4f}\")\n",
    "\n",
    "print(summary)"
   ]
  },
  {
   "cell_type": "code",
   "execution_count": null,
   "id": "cd960bf0245f87",
   "metadata": {
    "ExecuteTime": {
     "end_time": "2024-06-14T08:44:08.856238Z",
     "start_time": "2024-06-14T08:44:06.812825Z"
    }
   },
   "outputs": [],
   "source": [
    "from statsmodels.tsa.statespace.sarimax import SARIMAX\n",
    "import statsmodels.api as sm\n",
    "\n",
    "train = sarimax_data[[\n",
    "    'meter_sale_price', \n",
    "    'rooms', \n",
    "    'has_parking', \n",
    "    'distance_to_center', \n",
    "    'area_rating', \n",
    "    'gdp', \n",
    "]].iloc[:-12]\n",
    "test = sarimax_data[[\n",
    "    'meter_sale_price', \n",
    "    'rooms', \n",
    "    'has_parking', \n",
    "    'distance_to_center', \n",
    "    'area_rating', \n",
    "    'gdp', \n",
    "]].iloc[-12:]\n",
    "\n",
    "exog_train = train.drop(columns=['meter_sale_price'], axis=1)\n",
    "exog_test = test.drop(columns=['meter_sale_price'], axis=1)\n",
    "\n",
    "model = sm.tsa.SARIMAX(train['meter_sale_price'], order=(1, 1, 1), seasonal_order=(0, 0, 0, 0), exog=exog_train)\n",
    "fitted_model = model.fit(method='nm', maxiter=1000, disp=False)\n",
    "\n",
    "# Summary of the model\n",
    "print(fitted_model.summary())\n",
    "\n",
    "# Plot the residuals to check for white noise\n",
    "residuals = fitted_model.resid\n",
    "plt.figure(figsize=(10, 6))\n",
    "plt.plot(residuals)\n",
    "plt.title('Residuals')\n",
    "plt.show()\n",
    "\n",
    "plot_acf(residuals, lags=25)\n",
    "plt.show()\n",
    "\n",
    "plot_pacf(residuals, lags=25)\n",
    "plt.show()\n",
    "\n",
    "# \n",
    "# Forecast\n",
    "forecast = fitted_model.get_forecast(steps=len(test), exog=exog_test)\n",
    "mean_forecast = forecast.predicted_mean\n",
    "confidence_intervals = forecast.conf_int()\n",
    "\n",
    "# Plotting\n",
    "plt.figure(figsize=(12, 6))\n",
    "plt.plot(train.index, train['meter_sale_price'], label='Training Data', color='blue')\n",
    "plt.plot(test.index, test['meter_sale_price'], label='Test Data', color='green')\n",
    "plt.plot(mean_forecast.index, mean_forecast, label='Forecasted Data', color='red')\n",
    "plt.fill_between(mean_forecast.index, \n",
    "                 confidence_intervals.iloc[:, 0], \n",
    "                 confidence_intervals.iloc[:, 1], \n",
    "                 color='pink', alpha=0.3)\n",
    "plt.title('SARIMAX Model Forecast vs Actual Data')\n",
    "plt.xlabel('Date')\n",
    "plt.ylabel('Meter Sale Price')\n",
    "plt.legend()\n",
    "plt.show()"
   ]
  },
  {
   "cell_type": "code",
   "execution_count": null,
   "id": "9e1bd08730422d75",
   "metadata": {
    "ExecuteTime": {
     "end_time": "2024-06-14T08:49:36.036673Z",
     "start_time": "2024-06-14T08:49:36.011368Z"
    }
   },
   "outputs": [],
   "source": [
    "from statsmodels.sandbox.regression.gmm import IV2SLS\n",
    "from scipy.stats import chi2\n",
    "\n",
    "# Hausman Test\n",
    "# First stage regression of endogenous variable on instruments\n",
    "instruments = sm.add_constant(train[['gdp']])\n",
    "\n",
    "# Модель OLS\n",
    "ols_model = sm.OLS(train['meter_sale_price'], exog_train).fit()\n",
    "\n",
    "# Модель IV (инструментальные переменные)\n",
    "iv_model = IV2SLS(train['meter_sale_price'], exog_train, instrument=instruments).fit()\n",
    "\n",
    "# Тест Хаусмана вручную\n",
    "b_ols = ols_model.params\n",
    "b_iv = iv_model.params\n",
    "\n",
    "# Найдем разницу между коэффициентами\n",
    "diff = b_ols - b_iv\n",
    "\n",
    "# Дисперсии коэффициентов\n",
    "cov_ols = ols_model.cov_params()\n",
    "cov_iv = iv_model.cov_params()\n",
    "\n",
    "# Разница в дисперсиях\n",
    "cov_diff = cov_ols - cov_iv\n",
    "\n",
    "# Статистика Хаусмана\n",
    "hausman_stat = diff @ np.linalg.inv(cov_diff) @ diff.T\n",
    "p_value = 1 - chi2.cdf(hausman_stat, df=diff.shape[0])\n",
    "\n",
    "print('Hausman Test Statistic:', hausman_stat)\n",
    "print('P-value:', p_value)"
   ]
  },
  {
   "cell_type": "code",
   "execution_count": null,
   "id": "71ce6567eb49c52f",
   "metadata": {
    "ExecuteTime": {
     "end_time": "2024-06-04T20:53:18.984554Z",
     "start_time": "2024-06-04T20:53:18.968284Z"
    }
   },
   "outputs": [],
   "source": [
    "# Предсказание на том же временном периоде\n",
    "pred = fitted_model.get_prediction(start=train.index[0], steps=len(train), exog=exog_train, dynamic=False)\n",
    "pred_ci = pred.conf_int()\n",
    "\n",
    "# Сравнение фактических и предсказанных значений\n",
    "y_forecasted = pred.predicted_mean\n",
    "y_truth = train['meter_sale_price']\n",
    "\n",
    "mean_actual = y_truth.mean()\n",
    "\n",
    "# Расчет метрик точности\n",
    "mae = mean_absolute_error(y_truth, y_forecasted)\n",
    "mse = mean_squared_error(y_truth, y_forecasted)\n",
    "rmse = np.sqrt(mse)\n",
    "\n",
    "relative_mae = (mae / mean_actual) * 100\n",
    "relative_mse = (mse / (mean_actual ** 2)) * 100\n",
    "relative_rmse = (rmse / mean_actual) * 100\n",
    "\n",
    "print(f'MAE: {mae}')\n",
    "print(f'MSE: {mse}')\n",
    "print(f'RMSE: {rmse}')\n",
    "\n",
    "print(f'Relative MAE (%): {relative_mae:.2f}%')\n",
    "print(f'Relative MSE (%): {relative_mse:.2f}%')\n",
    "print(f'Relative RMSE (%): {relative_rmse:.2f}%')"
   ]
  },
  {
   "cell_type": "code",
   "execution_count": null,
   "id": "d007f76cb7622771",
   "metadata": {
    "ExecuteTime": {
     "end_time": "2024-06-04T20:53:27.407661Z",
     "start_time": "2024-06-04T20:53:27.158448Z"
    }
   },
   "outputs": [],
   "source": [
    "ax = train['meter_sale_price'].plot(label='Observed', figsize=(14, 7))\n",
    "y_forecasted.plot(ax=ax, label='Forecast', alpha=.7)\n",
    "ax.fill_between(pred_ci.index,\n",
    "                pred_ci.iloc[:, 0],\n",
    "                pred_ci.iloc[:, 1], color='k', alpha=.2)\n",
    "ax.set_xlabel('Date')\n",
    "ax.set_ylabel('Values')\n",
    "plt.legend()\n",
    "plt.show()"
   ]
  },
  {
   "cell_type": "code",
   "execution_count": null,
   "id": "11a8d34ff70ad01d",
   "metadata": {
    "ExecuteTime": {
     "end_time": "2024-06-05T17:18:37.458576Z",
     "start_time": "2024-06-05T17:18:36.842628Z"
    }
   },
   "outputs": [],
   "source": [
    "train = sarimax_data[[\n",
    "    'meter_sale_price', \n",
    "    'rooms', \n",
    "    'has_parking', \n",
    "    'distance_to_center', \n",
    "    'area_rating', \n",
    "    'gdp', \n",
    "]].iloc[-24:]\n",
    "\n",
    "exog_train = train.drop('meter_sale_price', axis=1)\n",
    "\n",
    "model = SARIMAX(train['meter_sale_price'], order=(1, 1, 1), seasonal_order=(0, 0, 0, 0), exog=exog_train)\n",
    "fitted_model = model.fit(method='nm', maxiter=1000)\n",
    "\n",
    "last_6_months = sarimax_data.tail(12)\n",
    "\n",
    "future_6_months_dates = pd.date_range(start=train.index.max(), periods=12, freq='ME')\n",
    "\n",
    "\n",
    "future_data = pd.DataFrame({\n",
    "    'rooms': last_6_months['rooms'].tolist(),\n",
    "    'has_parking': last_6_months['has_parking'].tolist(),\n",
    "    'distance_to_center': last_6_months['distance_to_center'].tolist(),\n",
    "    'area_rating': last_6_months['area_rating'].tolist(),\n",
    "    'gdp': [527800000000.00 / 10 ** 9] * 12,\n",
    "}, index=future_6_months_dates)\n",
    "\n",
    "# \n",
    "forecast = fitted_model.get_forecast(steps=len(future_data), exog=future_data)\n",
    "mean_forecast = forecast.predicted_mean\n",
    "confidence_intervals = forecast.conf_int()\n",
    "\n",
    "combined_data = pd.concat([train['meter_sale_price'], mean_forecast])\n",
    "\n",
    "# Plotting\n",
    "plt.figure(figsize=(12, 6))\n",
    "plt.plot(combined_data.index, combined_data, label='Training Data', color='blue')\n",
    "plt.plot(mean_forecast.index, mean_forecast, label='Forecasted Data', color='red')\n",
    "plt.fill_between(mean_forecast.index, \n",
    "                 confidence_intervals.iloc[:, 0], \n",
    "                 confidence_intervals.iloc[:, 1], \n",
    "                 color='pink', alpha=0.3)\n",
    "plt.title('SARIMAX Model Forecast from 2024-05')\n",
    "plt.xlabel('Date')\n",
    "plt.ylabel('Meter Sale Price')\n",
    "plt.legend(loc='upper left')\n",
    "plt.show()\n",
    "\n",
    "mean_forecast.to_csv('predicted_residential_12m.csv')"
   ]
  },
  {
   "cell_type": "code",
   "execution_count": null,
   "id": "6ba92582c06e4b43",
   "metadata": {
    "ExecuteTime": {
     "end_time": "2024-06-01T16:52:31.615418Z",
     "start_time": "2024-06-01T16:52:31.533501Z"
    }
   },
   "outputs": [],
   "source": [
    "import scipy.stats as stats\n",
    "from tabulate import tabulate\n",
    "\n",
    "mean_price = np.mean(mean_forecast)\n",
    "std_dev_price = np.std(mean_forecast)\n",
    "skewness_price = stats.skew(mean_forecast)\n",
    "kurtosis_price = stats.kurtosis(mean_forecast)\n",
    "jarque_bera_test = stats.jarque_bera(mean_forecast)\n",
    "beta = np.polyfit(np.arange(len(mean_forecast)), mean_forecast, 1)[0]\n",
    "\n",
    "# Вычисление p-value и t-value для beta\n",
    "slope, intercept, r_value, p_value, std_err = stats.linregress(np.arange(len(mean_forecast)), mean_forecast)\n",
    "t_value = slope / std_err\n",
    "\n",
    "# Создание DataFrame для отображения результатов\n",
    "stat_analysis = pd.DataFrame({\n",
    "    'Metric': ['Mean', 'Standard Deviation', 'Skewness', 'Kurtosis', 'Jarque-Bera', 'Beta', 'p-value', 't-value'],\n",
    "    'Value': [mean_price, std_dev_price, skewness_price, kurtosis_price, jarque_bera_test[0], beta, p_value, t_value]\n",
    "})\n",
    "\n",
    "# Используем tabulate для отображения данных\n",
    "print(tabulate(stat_analysis, headers='keys', tablefmt='pretty'))"
   ]
  },
  {
   "cell_type": "code",
   "execution_count": null,
   "id": "85c6c5c81150aa75",
   "metadata": {},
   "outputs": [],
   "source": []
  }
 ],
 "metadata": {
  "kernelspec": {
   "display_name": "Python 3",
   "language": "python",
   "name": "python3"
  },
  "language_info": {
   "codemirror_mode": {
    "name": "ipython",
    "version": 2
   },
   "file_extension": ".py",
   "mimetype": "text/x-python",
   "name": "python",
   "nbconvert_exporter": "python",
   "pygments_lexer": "ipython2",
   "version": "2.7.6"
  }
 },
 "nbformat": 4,
 "nbformat_minor": 5
}
