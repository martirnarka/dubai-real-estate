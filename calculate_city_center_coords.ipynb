{
 "cells": [
  {
   "cell_type": "code",
   "execution_count": 1,
   "outputs": [],
   "source": [
    "import pandas as pd"
   ],
   "metadata": {
    "collapsed": false,
    "ExecuteTime": {
     "end_time": "2024-05-15T12:23:56.015441Z",
     "start_time": "2024-05-15T12:23:56.012618Z"
    }
   },
   "id": "9560ae07addbf4fd"
  },
  {
   "cell_type": "code",
   "execution_count": 2,
   "id": "initial_id",
   "metadata": {
    "collapsed": true,
    "ExecuteTime": {
     "end_time": "2024-05-15T12:24:09.066637Z",
     "start_time": "2024-05-15T12:23:57.830712Z"
    }
   },
   "outputs": [],
   "source": [
    "data = pd.read_csv('transactions.csv')\n",
    "data.dropna(subset=['meter_sale_price'], inplace=True) "
   ]
  },
  {
   "cell_type": "code",
   "execution_count": 3,
   "outputs": [],
   "source": [
    "import requests\n",
    "import time\n",
    "import pickle\n",
    "from collections import defaultdict\n",
    "import numpy as np"
   ],
   "metadata": {
    "collapsed": false,
    "ExecuteTime": {
     "end_time": "2024-05-15T12:24:17.233862Z",
     "start_time": "2024-05-15T12:24:17.145941Z"
    }
   },
   "id": "6c437db21801c124"
  },
  {
   "cell_type": "code",
   "execution_count": 10,
   "outputs": [],
   "source": [
    "# Coordinates for the city center (Burj Khalifa, Dubai)\n",
    "city_center_coords = (25.1972, 55.2744)"
   ],
   "metadata": {
    "collapsed": false,
    "ExecuteTime": {
     "end_time": "2024-05-15T13:09:53.615408Z",
     "start_time": "2024-05-15T13:09:53.608947Z"
    }
   },
   "id": "eade6a9807875fb"
  },
  {
   "cell_type": "code",
   "execution_count": 14,
   "outputs": [],
   "source": [
    "# Load or initialize the cache\n",
    "try:\n",
    "    with open('geocode_cache.pkl', 'rb') as f:\n",
    "        geocode_cache = pickle.load(f)\n",
    "except FileNotFoundError:\n",
    "    geocode_cache = {}\n",
    "\n",
    "def save_cache(cache):\n",
    "    with open('geocode_cache.pkl', 'wb') as f:\n",
    "        pickle.dump(cache, f)\n",
    "\n",
    "API_KEY = 'ce8004f8a6064299bfff7c815d2425cb'\n",
    "\n",
    "def get_coordinates_nominatim(location):\n",
    "    if location in geocode_cache:\n",
    "        return geocode_cache[location]\n",
    "    url = f\"https://api.opencagedata.com/geocode/v1/json?q={location}+Dubai&key={API_KEY}\"\n",
    "    response = requests.get(url).json()\n",
    "    if response:\n",
    "        geometry = response['results'][0]['geometry']\n",
    "        coordinates = (float(geometry['lat']), float(geometry['lng']))\n",
    "        geocode_cache[location] = coordinates\n",
    "        return coordinates\n",
    "    else:\n",
    "        return None\n",
    "\n",
    "def haversine(coord1, coord2):\n",
    "    # Calculate the great circle distance between two points \n",
    "    # on the Earth (specified in decimal degrees)\n",
    "    lat1, lon1 = coord1\n",
    "    lat2, lon2 = coord2\n",
    "    # Convert decimal degrees to radians \n",
    "    lat1, lon1, lat2, lon2 = map(np.radians, [lat1, lon1, lat2, lon2])\n",
    "    # Haversine formula \n",
    "    dlon = lon2 - lon1 \n",
    "    dlat = lat2 - lat1 \n",
    "    a = np.sin(dlat/2)**2 + np.cos(lat1) * np.cos(lat2) * np.sin(dlon/2)**2\n",
    "    c = 2 * np.arcsin(np.sqrt(a))\n",
    "    r = 6371 # Radius of Earth in kilometers. Use 3956 for miles. Determines return value units.\n",
    "    return c * r\n"
   ],
   "metadata": {
    "collapsed": false,
    "ExecuteTime": {
     "end_time": "2024-05-15T13:10:31.430361Z",
     "start_time": "2024-05-15T13:10:31.423576Z"
    }
   },
   "id": "b186678eab61f25d"
  },
  {
   "cell_type": "code",
   "execution_count": 15,
   "outputs": [
    {
     "data": {
      "text/plain": "           transaction_id  procedure_id  trans_group_id trans_group_ar  \\\n0          1-11-2004-2099            11               1        مبايعات   \n1          1-11-2011-6898            11               1        مبايعات   \n2        1-11-2008-203212            11               1        مبايعات   \n3         1-11-2010-15769            11               1        مبايعات   \n4          1-110-2010-557           110               1        مبايعات   \n...                   ...           ...             ...            ...   \n1182462   1-102-2010-2872           102               1        مبايعات   \n1182463   1-102-2010-2741           102               1        مبايعات   \n1182464   1-102-2010-2911           102               1        مبايعات   \n1182465  1-102-2008-48417           102               1        مبايعات   \n1182466   1-102-2010-2302           102               1        مبايعات   \n\n        trans_group_en           procedure_name_ar          procedure_name_en  \\\n0                Sales                         بيع                       Sell   \n1                Sales                         بيع                       Sell   \n2                Sales                         بيع                       Sell   \n3                Sales                         بيع                       Sell   \n4                Sales  تسجيل إيجارة تنتهى بالتملك  Lease to Own Registration   \n...                ...                         ...                        ...   \n1182462          Sales           بيع - تسجيل مبدئى    Sell - Pre registration   \n1182463          Sales           بيع - تسجيل مبدئى    Sell - Pre registration   \n1182464          Sales           بيع - تسجيل مبدئى    Sell - Pre registration   \n1182465          Sales           بيع - تسجيل مبدئى    Sell - Pre registration   \n1182466          Sales           بيع - تسجيل مبدئى    Sell - Pre registration   \n\n        instance_date  property_type_id property_type_ar  ... procedure_area  \\\n0          04-10-2004                 4             فيلا  ...         860.28   \n1          21-04-2011                 3             وحدة  ...          89.93   \n2          11-06-2008                 3             وحدة  ...          67.00   \n3          25-10-2010                 3             وحدة  ...         100.80   \n4          24-03-2010                 3             وحدة  ...          43.00   \n...               ...               ...              ...  ...            ...   \n1182462    20-05-2010                 3             وحدة  ...         313.37   \n1182463    07-10-2010                 3             وحدة  ...         126.07   \n1182464    15-07-2010                 3             وحدة  ...          82.68   \n1182465    21-12-2009                 3             وحدة  ...          75.08   \n1182466    29-03-2010                 3             وحدة  ...         204.48   \n\n         actual_worth meter_sale_price rent_value meter_rent_price  \\\n0           4500000.0          5230.86        NaN              NaN   \n1           2008888.0         22338.35        NaN              NaN   \n2            330000.0          4925.37        NaN              NaN   \n3            928756.0          9213.85        NaN              NaN   \n4            290000.0          6744.19        NaN              NaN   \n...               ...              ...        ...              ...   \n1182462     4650075.0         14838.93        NaN              NaN   \n1182463     1100000.0          8725.31        NaN              NaN   \n1182464      845500.0         10226.17        NaN              NaN   \n1182465      691000.0          9203.52        NaN              NaN   \n1182466     2600000.0         12715.18        NaN              NaN   \n\n        no_of_parties_role_1  no_of_parties_role_2 no_of_parties_role_3  \\\n0                        3.0                   1.0                  0.0   \n1                        1.0                   1.0                  0.0   \n2                        1.0                   1.0                  0.0   \n3                        1.0                   1.0                  0.0   \n4                        4.0                   2.0                  2.0   \n...                      ...                   ...                  ...   \n1182462                  NaN                   NaN                  NaN   \n1182463                  NaN                   NaN                  NaN   \n1182464                  NaN                   NaN                  NaN   \n1182465                  NaN                   NaN                  NaN   \n1182466                  NaN                   NaN                  NaN   \n\n                       coordinates  distance_to_center  \n0              (25.0657, 55.17128)           17.932402  \n1              (25.0657, 55.17128)           17.932402  \n2         (25.2295686, 55.3914759)           12.315636  \n3         (25.0799529, 55.1475937)           18.245763  \n4         (25.2295686, 55.3914759)           12.315636  \n...                            ...                 ...  \n1182462        (25.0657, 55.17128)           17.932402  \n1182463   (25.1180879, 55.1342009)           16.628136  \n1182464        (25.0657, 55.17128)           17.932402  \n1182465  (-19.848297, -44.0350419)        11830.392519  \n1182466   (25.0786415, 55.1352524)           19.235181  \n\n[1182467 rows x 48 columns]",
      "text/html": "<div>\n<style scoped>\n    .dataframe tbody tr th:only-of-type {\n        vertical-align: middle;\n    }\n\n    .dataframe tbody tr th {\n        vertical-align: top;\n    }\n\n    .dataframe thead th {\n        text-align: right;\n    }\n</style>\n<table border=\"1\" class=\"dataframe\">\n  <thead>\n    <tr style=\"text-align: right;\">\n      <th></th>\n      <th>transaction_id</th>\n      <th>procedure_id</th>\n      <th>trans_group_id</th>\n      <th>trans_group_ar</th>\n      <th>trans_group_en</th>\n      <th>procedure_name_ar</th>\n      <th>procedure_name_en</th>\n      <th>instance_date</th>\n      <th>property_type_id</th>\n      <th>property_type_ar</th>\n      <th>...</th>\n      <th>procedure_area</th>\n      <th>actual_worth</th>\n      <th>meter_sale_price</th>\n      <th>rent_value</th>\n      <th>meter_rent_price</th>\n      <th>no_of_parties_role_1</th>\n      <th>no_of_parties_role_2</th>\n      <th>no_of_parties_role_3</th>\n      <th>coordinates</th>\n      <th>distance_to_center</th>\n    </tr>\n  </thead>\n  <tbody>\n    <tr>\n      <th>0</th>\n      <td>1-11-2004-2099</td>\n      <td>11</td>\n      <td>1</td>\n      <td>مبايعات</td>\n      <td>Sales</td>\n      <td>بيع</td>\n      <td>Sell</td>\n      <td>04-10-2004</td>\n      <td>4</td>\n      <td>فيلا</td>\n      <td>...</td>\n      <td>860.28</td>\n      <td>4500000.0</td>\n      <td>5230.86</td>\n      <td>NaN</td>\n      <td>NaN</td>\n      <td>3.0</td>\n      <td>1.0</td>\n      <td>0.0</td>\n      <td>(25.0657, 55.17128)</td>\n      <td>17.932402</td>\n    </tr>\n    <tr>\n      <th>1</th>\n      <td>1-11-2011-6898</td>\n      <td>11</td>\n      <td>1</td>\n      <td>مبايعات</td>\n      <td>Sales</td>\n      <td>بيع</td>\n      <td>Sell</td>\n      <td>21-04-2011</td>\n      <td>3</td>\n      <td>وحدة</td>\n      <td>...</td>\n      <td>89.93</td>\n      <td>2008888.0</td>\n      <td>22338.35</td>\n      <td>NaN</td>\n      <td>NaN</td>\n      <td>1.0</td>\n      <td>1.0</td>\n      <td>0.0</td>\n      <td>(25.0657, 55.17128)</td>\n      <td>17.932402</td>\n    </tr>\n    <tr>\n      <th>2</th>\n      <td>1-11-2008-203212</td>\n      <td>11</td>\n      <td>1</td>\n      <td>مبايعات</td>\n      <td>Sales</td>\n      <td>بيع</td>\n      <td>Sell</td>\n      <td>11-06-2008</td>\n      <td>3</td>\n      <td>وحدة</td>\n      <td>...</td>\n      <td>67.00</td>\n      <td>330000.0</td>\n      <td>4925.37</td>\n      <td>NaN</td>\n      <td>NaN</td>\n      <td>1.0</td>\n      <td>1.0</td>\n      <td>0.0</td>\n      <td>(25.2295686, 55.3914759)</td>\n      <td>12.315636</td>\n    </tr>\n    <tr>\n      <th>3</th>\n      <td>1-11-2010-15769</td>\n      <td>11</td>\n      <td>1</td>\n      <td>مبايعات</td>\n      <td>Sales</td>\n      <td>بيع</td>\n      <td>Sell</td>\n      <td>25-10-2010</td>\n      <td>3</td>\n      <td>وحدة</td>\n      <td>...</td>\n      <td>100.80</td>\n      <td>928756.0</td>\n      <td>9213.85</td>\n      <td>NaN</td>\n      <td>NaN</td>\n      <td>1.0</td>\n      <td>1.0</td>\n      <td>0.0</td>\n      <td>(25.0799529, 55.1475937)</td>\n      <td>18.245763</td>\n    </tr>\n    <tr>\n      <th>4</th>\n      <td>1-110-2010-557</td>\n      <td>110</td>\n      <td>1</td>\n      <td>مبايعات</td>\n      <td>Sales</td>\n      <td>تسجيل إيجارة تنتهى بالتملك</td>\n      <td>Lease to Own Registration</td>\n      <td>24-03-2010</td>\n      <td>3</td>\n      <td>وحدة</td>\n      <td>...</td>\n      <td>43.00</td>\n      <td>290000.0</td>\n      <td>6744.19</td>\n      <td>NaN</td>\n      <td>NaN</td>\n      <td>4.0</td>\n      <td>2.0</td>\n      <td>2.0</td>\n      <td>(25.2295686, 55.3914759)</td>\n      <td>12.315636</td>\n    </tr>\n    <tr>\n      <th>...</th>\n      <td>...</td>\n      <td>...</td>\n      <td>...</td>\n      <td>...</td>\n      <td>...</td>\n      <td>...</td>\n      <td>...</td>\n      <td>...</td>\n      <td>...</td>\n      <td>...</td>\n      <td>...</td>\n      <td>...</td>\n      <td>...</td>\n      <td>...</td>\n      <td>...</td>\n      <td>...</td>\n      <td>...</td>\n      <td>...</td>\n      <td>...</td>\n      <td>...</td>\n      <td>...</td>\n    </tr>\n    <tr>\n      <th>1182462</th>\n      <td>1-102-2010-2872</td>\n      <td>102</td>\n      <td>1</td>\n      <td>مبايعات</td>\n      <td>Sales</td>\n      <td>بيع - تسجيل مبدئى</td>\n      <td>Sell - Pre registration</td>\n      <td>20-05-2010</td>\n      <td>3</td>\n      <td>وحدة</td>\n      <td>...</td>\n      <td>313.37</td>\n      <td>4650075.0</td>\n      <td>14838.93</td>\n      <td>NaN</td>\n      <td>NaN</td>\n      <td>NaN</td>\n      <td>NaN</td>\n      <td>NaN</td>\n      <td>(25.0657, 55.17128)</td>\n      <td>17.932402</td>\n    </tr>\n    <tr>\n      <th>1182463</th>\n      <td>1-102-2010-2741</td>\n      <td>102</td>\n      <td>1</td>\n      <td>مبايعات</td>\n      <td>Sales</td>\n      <td>بيع - تسجيل مبدئى</td>\n      <td>Sell - Pre registration</td>\n      <td>07-10-2010</td>\n      <td>3</td>\n      <td>وحدة</td>\n      <td>...</td>\n      <td>126.07</td>\n      <td>1100000.0</td>\n      <td>8725.31</td>\n      <td>NaN</td>\n      <td>NaN</td>\n      <td>NaN</td>\n      <td>NaN</td>\n      <td>NaN</td>\n      <td>(25.1180879, 55.1342009)</td>\n      <td>16.628136</td>\n    </tr>\n    <tr>\n      <th>1182464</th>\n      <td>1-102-2010-2911</td>\n      <td>102</td>\n      <td>1</td>\n      <td>مبايعات</td>\n      <td>Sales</td>\n      <td>بيع - تسجيل مبدئى</td>\n      <td>Sell - Pre registration</td>\n      <td>15-07-2010</td>\n      <td>3</td>\n      <td>وحدة</td>\n      <td>...</td>\n      <td>82.68</td>\n      <td>845500.0</td>\n      <td>10226.17</td>\n      <td>NaN</td>\n      <td>NaN</td>\n      <td>NaN</td>\n      <td>NaN</td>\n      <td>NaN</td>\n      <td>(25.0657, 55.17128)</td>\n      <td>17.932402</td>\n    </tr>\n    <tr>\n      <th>1182465</th>\n      <td>1-102-2008-48417</td>\n      <td>102</td>\n      <td>1</td>\n      <td>مبايعات</td>\n      <td>Sales</td>\n      <td>بيع - تسجيل مبدئى</td>\n      <td>Sell - Pre registration</td>\n      <td>21-12-2009</td>\n      <td>3</td>\n      <td>وحدة</td>\n      <td>...</td>\n      <td>75.08</td>\n      <td>691000.0</td>\n      <td>9203.52</td>\n      <td>NaN</td>\n      <td>NaN</td>\n      <td>NaN</td>\n      <td>NaN</td>\n      <td>NaN</td>\n      <td>(-19.848297, -44.0350419)</td>\n      <td>11830.392519</td>\n    </tr>\n    <tr>\n      <th>1182466</th>\n      <td>1-102-2010-2302</td>\n      <td>102</td>\n      <td>1</td>\n      <td>مبايعات</td>\n      <td>Sales</td>\n      <td>بيع - تسجيل مبدئى</td>\n      <td>Sell - Pre registration</td>\n      <td>29-03-2010</td>\n      <td>3</td>\n      <td>وحدة</td>\n      <td>...</td>\n      <td>204.48</td>\n      <td>2600000.0</td>\n      <td>12715.18</td>\n      <td>NaN</td>\n      <td>NaN</td>\n      <td>NaN</td>\n      <td>NaN</td>\n      <td>NaN</td>\n      <td>(25.0786415, 55.1352524)</td>\n      <td>19.235181</td>\n    </tr>\n  </tbody>\n</table>\n<p>1182467 rows × 48 columns</p>\n</div>"
     },
     "execution_count": 15,
     "metadata": {},
     "output_type": "execute_result"
    }
   ],
   "source": [
    "\n",
    "data['coordinates'] = data['nearest_metro_en'].apply(get_coordinates_nominatim)\n",
    "data['distance_to_center'] = data['coordinates'].apply(\n",
    "    lambda x: haversine(city_center_coords, x) if x else None\n",
    ")\n",
    "save_cache(geocode_cache)\n",
    "\n",
    "# Save the final DataFrame\n",
    "data.to_csv('properties_with_distances.csv', index=False)\n",
    "\n",
    "data"
   ],
   "metadata": {
    "collapsed": false,
    "ExecuteTime": {
     "end_time": "2024-05-15T13:11:38.170185Z",
     "start_time": "2024-05-15T13:10:32.840262Z"
    }
   },
   "id": "7527585c1f0e19cc"
  },
  {
   "cell_type": "code",
   "execution_count": null,
   "outputs": [],
   "source": [],
   "metadata": {
    "collapsed": false
   },
   "id": "b0b2bd754ddf99ea"
  }
 ],
 "metadata": {
  "kernelspec": {
   "display_name": "Python 3",
   "language": "python",
   "name": "python3"
  },
  "language_info": {
   "codemirror_mode": {
    "name": "ipython",
    "version": 2
   },
   "file_extension": ".py",
   "mimetype": "text/x-python",
   "name": "python",
   "nbconvert_exporter": "python",
   "pygments_lexer": "ipython2",
   "version": "2.7.6"
  }
 },
 "nbformat": 4,
 "nbformat_minor": 5
}
