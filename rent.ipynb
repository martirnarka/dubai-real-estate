{
 "cells": [
  {
   "cell_type": "code",
   "execution_count": null,
   "id": "initial_id",
   "metadata": {
    "ExecuteTime": {
     "end_time": "2024-06-08T14:57:09.554908Z",
     "start_time": "2024-06-08T14:57:09.545066Z"
    }
   },
   "outputs": [],
   "source": [
    "import pandas as pd\n",
    "import numpy as np"
   ]
  },
  {
   "cell_type": "code",
   "execution_count": null,
   "id": "6f9a70121ead2096",
   "metadata": {
    "ExecuteTime": {
     "end_time": "2024-06-08T14:57:58.680012Z",
     "start_time": "2024-06-08T14:57:13.081093Z"
    }
   },
   "outputs": [],
   "source": [
    "data = pd.read_csv('Rent_Contracts.csv')"
   ]
  },
  {
   "cell_type": "code",
   "execution_count": null,
   "id": "ee4b1542224d0689",
   "metadata": {
    "ExecuteTime": {
     "end_time": "2024-06-08T14:59:35.601322Z",
     "start_time": "2024-06-08T14:59:35.577160Z"
    }
   },
   "outputs": [],
   "source": [
    "data.head()"
   ]
  },
  {
   "cell_type": "code",
   "execution_count": null,
   "id": "286fb58719cb7260",
   "metadata": {
    "ExecuteTime": {
     "end_time": "2024-06-03T13:55:10.714473Z",
     "start_time": "2024-06-03T13:55:06.772668Z"
    }
   },
   "outputs": [],
   "source": [
    "data"
   ]
  },
  {
   "cell_type": "code",
   "execution_count": null,
   "id": "4ac6588a6ae8afee",
   "metadata": {
    "ExecuteTime": {
     "end_time": "2024-05-19T20:35:31.141187Z",
     "start_time": "2024-05-19T20:35:21.356265Z"
    }
   },
   "outputs": [],
   "source": [
    "categorical_columns = data.select_dtypes(include=['object']).columns\n",
    "for column in categorical_columns:\n",
    "    print(data[column].value_counts())\n",
    "    print('\\n')"
   ]
  },
  {
   "cell_type": "code",
   "execution_count": null,
   "id": "7d8fb65e13880b91",
   "metadata": {
    "ExecuteTime": {
     "end_time": "2024-06-08T14:59:39.708114Z",
     "start_time": "2024-06-08T14:59:39.685470Z"
    }
   },
   "outputs": [],
   "source": [
    "def update_usage(usage_type):\n",
    "    if usage_type == 'Residential':\n",
    "        return 'residential'\n",
    "    else:\n",
    "        return 'commercial'"
   ]
  },
  {
   "cell_type": "code",
   "execution_count": null,
   "id": "850db0e47709df9d",
   "metadata": {
    "ExecuteTime": {
     "end_time": "2024-06-08T14:59:53.901072Z",
     "start_time": "2024-06-08T14:59:42.539274Z"
    }
   },
   "outputs": [],
   "source": [
    "rent_data = data[data['property_usage_en'].isin(['Residential', 'Commercial', 'Industrial', 'Industrial / Commercial', 'Storage'])]\n",
    "\n",
    "rent_data['property_usage'] = rent_data['property_usage_en'].apply(update_usage)\n",
    "\n",
    "rent_data"
   ]
  },
  {
   "cell_type": "code",
   "execution_count": null,
   "id": "8819214617813858",
   "metadata": {
    "ExecuteTime": {
     "end_time": "2024-06-08T15:00:46.469862Z",
     "start_time": "2024-06-08T15:00:46.454718Z"
    }
   },
   "outputs": [],
   "source": [
    "from scipy.stats import trim_mean\n",
    "\n",
    "def trimmed_mean(series, proportion_to_cut=0.1):\n",
    "    return trim_mean(series, proportion_to_cut)"
   ]
  },
  {
   "cell_type": "code",
   "execution_count": null,
   "id": "39fe025475b20ff0",
   "metadata": {
    "ExecuteTime": {
     "end_time": "2024-06-08T15:00:55.788327Z",
     "start_time": "2024-06-08T15:00:54.119933Z"
    }
   },
   "outputs": [],
   "source": [
    "rent_data['contract_start_date'] = pd.to_datetime(rent_data['contract_start_date'], format='%d-%m-%Y')\n",
    "# \n",
    "rent_data['year_month'] = rent_data['contract_start_date'].dt.to_period('M')\n",
    "grouped_rent = rent_data.groupby(['year_month', 'property_usage'])['annual_amount'].apply(trimmed_mean, proportion_to_cut=0.1).reset_index()\n",
    "grouped_rent.rename(columns={'annual_amount': 'average_annual_amount'}, inplace=True)\n",
    "# \n",
    "grouped_rent"
   ]
  },
  {
   "cell_type": "code",
   "execution_count": null,
   "id": "7bec1a45d591c5ba",
   "metadata": {
    "ExecuteTime": {
     "end_time": "2024-06-08T17:32:17.273193Z",
     "start_time": "2024-06-08T17:32:07.464633Z"
    }
   },
   "outputs": [],
   "source": [
    "transactions_data = pd.read_csv('Transactions.csv')"
   ]
  },
  {
   "cell_type": "code",
   "execution_count": null,
   "id": "954ba8129a669fd",
   "metadata": {
    "ExecuteTime": {
     "end_time": "2024-06-08T17:32:28.598150Z",
     "start_time": "2024-06-08T17:32:27.543062Z"
    }
   },
   "outputs": [],
   "source": [
    "transactions_data = transactions_data.loc[transactions_data['trans_group_id'] == 1]\n",
    "\n",
    "transactions_data = transactions_data[transactions_data['property_usage_en'].isin(['Residential', 'Commercial', 'Industrial', 'Industrial / Commercial', 'Storage'])]\n",
    "\n",
    "transactions_data['property_usage'] = transactions_data['property_usage_en'].apply(update_usage)\n"
   ]
  },
  {
   "cell_type": "code",
   "execution_count": null,
   "id": "ba267df9a5f64510",
   "metadata": {
    "ExecuteTime": {
     "end_time": "2024-06-08T17:32:38.818114Z",
     "start_time": "2024-06-08T17:32:38.235035Z"
    }
   },
   "outputs": [],
   "source": [
    "transactions_data['instance_date'] = pd.to_datetime(transactions_data['instance_date'], format='%d-%m-%Y')\n",
    "\n",
    "transactions_data['year_month'] = transactions_data['instance_date'].dt.to_period('M')\n",
    "transactions_data['year'] = transactions_data['year_month'].dt.year\n",
    "grouped_sale = transactions_data[transactions_data['year_month'].isin(grouped_rent['year_month'])].groupby(['year_month', 'property_usage'])['actual_worth'].apply(trimmed_mean, proportion_to_cut=0.1).reset_index()"
   ]
  },
  {
   "cell_type": "code",
   "execution_count": null,
   "id": "d9d59ebd1d23f03f",
   "metadata": {
    "ExecuteTime": {
     "end_time": "2024-06-08T17:35:46.326709Z",
     "start_time": "2024-06-08T17:35:45.424020Z"
    }
   },
   "outputs": [],
   "source": [
    "cap_value = transactions_data['meter_sale_price'].quantile(0.95)\n",
    "sarimax_full_data = transactions_data[transactions_data['meter_sale_price'] < cap_value]\n",
    "\n",
    "quarterly_data = sarimax_full_data.groupby(['year', 'property_usage'])['meter_sale_price'].median().reset_index()\n",
    "# quarterly_data.set_index('instance_date', inplace=True)\n",
    "\n",
    "# Расчет pct_change по кварталам\n",
    "quarterly_data['price_change'] = quarterly_data.groupby('property_usage')['meter_sale_price'].pct_change()\n",
    "\n",
    "# Заполнение NaN значений, которые возникли при расчете pct_change для первого значения в каждой группе\n",
    "quarterly_data['price_change'].fillna(0, inplace=True)"
   ]
  },
  {
   "cell_type": "code",
   "execution_count": null,
   "id": "88f966247a755bd3",
   "metadata": {
    "ExecuteTime": {
     "end_time": "2024-06-08T17:36:50.664832Z",
     "start_time": "2024-06-08T17:36:50.610137Z"
    }
   },
   "outputs": [],
   "source": [
    "grouped_sale.rename(columns={'actual_worth': 'average_actual_worth'}, inplace=True)\n",
    "grouped_sale['year'] = grouped_sale['year_month'].dt.year\n",
    "\n",
    "grouped_sale = pd.merge(grouped_sale, quarterly_data, on=['year', 'property_usage'], how='left')\n",
    "grouped_sale"
   ]
  },
  {
   "cell_type": "code",
   "execution_count": null,
   "id": "48e8c66d9d83a358",
   "metadata": {
    "ExecuteTime": {
     "end_time": "2024-06-08T17:37:00.558804Z",
     "start_time": "2024-06-08T17:37:00.544767Z"
    }
   },
   "outputs": [],
   "source": [
    "inflation_data = pd.read_csv('inflation.csv')\n",
    "\n",
    "inflation_data['inflation'] = inflation_data['inflation'] / 100\n",
    "inflation_data"
   ]
  },
  {
   "cell_type": "code",
   "execution_count": null,
   "id": "12912ea9f0355d45",
   "metadata": {
    "ExecuteTime": {
     "end_time": "2024-06-08T17:37:18.102784Z",
     "start_time": "2024-06-08T17:37:18.070639Z"
    }
   },
   "outputs": [],
   "source": [
    "merged_data = pd.merge(grouped_rent, grouped_sale, on=['year_month', 'property_usage'])\n",
    "merged_data['year'] = merged_data['year_month'].dt.year\n",
    "\n",
    "merged_data = pd.merge(merged_data, inflation_data, on='year')\n",
    "\n",
    "merged_data"
   ]
  },
  {
   "cell_type": "code",
   "execution_count": null,
   "id": "b184db5947a287bf",
   "metadata": {
    "ExecuteTime": {
     "end_time": "2024-06-08T17:40:48.583416Z",
     "start_time": "2024-06-08T17:40:48.575630Z"
    }
   },
   "outputs": [],
   "source": [
    "merged_data['year'] = merged_data['year'].astype(int)\n",
    "\n",
    "merged_data['rate_of_return'] = (((merged_data['average_annual_amount'] * (1 + merged_data['inflation'])) / merged_data['average_actual_worth']) + merged_data['inflation'])\n",
    "\n",
    "merged_data['full_rate_of_return'] = merged_data['rate_of_return'] + merged_data['price_change']\n",
    "\n",
    "merged_data"
   ]
  },
  {
   "cell_type": "markdown",
   "id": "df8c7a712b73036b",
   "metadata": {
    "collapsed": false
   },
   "source": []
  },
  {
   "cell_type": "code",
   "execution_count": null,
   "id": "1a69061ed3aa5a71",
   "metadata": {
    "ExecuteTime": {
     "end_time": "2024-06-08T17:56:04.656413Z",
     "start_time": "2024-06-08T17:56:04.431253Z"
    }
   },
   "outputs": [],
   "source": [
    "import matplotlib.pyplot as plt\n",
    "\n",
    "plot_data = merged_data.loc[merged_data['year'] > 2009].groupby(['year', 'property_usage'])[['rate_of_return']].mean().reset_index()\n",
    "\n",
    "# Построение графика\n",
    "plt.figure(figsize=(12, 6))\n",
    "\n",
    "# Уникальные типы недвижимости\n",
    "property_usages = plot_data['property_usage'].unique()\n",
    "\n",
    "# Построение графиков для каждого типа недвижимости\n",
    "for property_usage in ['residential','commercial']:\n",
    "    subset = plot_data[plot_data['property_usage'] == property_usage]\n",
    "    plt.plot(subset['year'], subset['rate_of_return'] * 100, marker='o', label=property_usage)\n",
    "\n",
    "plt.title('Rate of Rent Return for each year')\n",
    "plt.xlabel('Year')\n",
    "plt.ylabel('Rate of Return')\n",
    "plt.legend()\n",
    "plt.grid(True)\n",
    "plt.show()\n",
    "\n",
    "plot_data"
   ]
  },
  {
   "cell_type": "code",
   "execution_count": null,
   "id": "a2d5c932de8a1d8b",
   "metadata": {
    "ExecuteTime": {
     "end_time": "2024-06-08T17:56:43.566154Z",
     "start_time": "2024-06-08T17:56:43.322397Z"
    }
   },
   "outputs": [],
   "source": [
    "import matplotlib.pyplot as plt\n",
    "\n",
    "plot_data = merged_data.loc[merged_data['year'] > 2009].groupby(['year', 'property_usage'])[['price_change']].mean().reset_index()\n",
    "\n",
    "# Построение графика\n",
    "plt.figure(figsize=(12, 6))\n",
    "\n",
    "plot_data['year_month_str'] = plot_data['year'].astype(str)\n",
    "\n",
    "# Уникальные типы недвижимости\n",
    "property_usages = plot_data['property_usage'].unique()\n",
    "\n",
    "# Построение графиков для каждого типа недвижимости\n",
    "for property_usage in ['residential','commercial']:\n",
    "    subset = plot_data[plot_data['property_usage'] == property_usage]\n",
    "    plt.plot(subset['year_month_str'], subset['price_change'] * 100, marker='o', label=property_usage)\n",
    "\n",
    "plt.title('Rate of Capital gain for each year')\n",
    "plt.xlabel('Year')\n",
    "plt.ylabel('Rate of Return')\n",
    "plt.legend()\n",
    "# plt.xticks(rotation=45)\n",
    "plt.grid(True)\n",
    "plt.show()\n",
    "\n",
    "plot_data"
   ]
  },
  {
   "cell_type": "code",
   "execution_count": null,
   "id": "a6138f23bbae4a31",
   "metadata": {
    "ExecuteTime": {
     "end_time": "2024-06-08T17:56:33.987560Z",
     "start_time": "2024-06-08T17:56:33.726304Z"
    }
   },
   "outputs": [],
   "source": [
    "import matplotlib.pyplot as plt\n",
    "\n",
    "plot_data = merged_data.loc[merged_data['year'] > 2009].groupby(['year', 'property_usage'])[['full_rate_of_return']].mean().reset_index()\n",
    "\n",
    "# Построение графика\n",
    "plt.figure(figsize=(12, 6))\n",
    "\n",
    "# Уникальные типы недвижимости\n",
    "property_usages = plot_data['property_usage'].unique()\n",
    "\n",
    "# Построение графиков для каждого типа недвижимости\n",
    "for property_usage in ['residential','commercial']:\n",
    "    subset = plot_data[plot_data['property_usage'] == property_usage]\n",
    "    plt.plot(subset['year'], subset['full_rate_of_return'] * 100, marker='o', label=property_usage)\n",
    "\n",
    "plt.title('Rate of Return for each year')\n",
    "plt.xlabel('Year')\n",
    "plt.ylabel('Rate of Return')\n",
    "plt.legend()\n",
    "plt.grid(True)\n",
    "plt.show()\n",
    "\n",
    "plot_data"
   ]
  },
  {
   "cell_type": "code",
   "execution_count": null,
   "id": "5efef3d1b2b7ba75",
   "metadata": {
    "ExecuteTime": {
     "end_time": "2024-06-08T18:00:57.678542Z",
     "start_time": "2024-06-08T18:00:57.674230Z"
    }
   },
   "outputs": [],
   "source": [
    "rus_inflation = {\n",
    "    \"2024-04\":7.84 / 100,\n",
    "    \"2024-03\":7.72 / 100,\n",
    "    \"2024-02\":7.69 / 100,\n",
    "    \"2024-01\":7.44 / 100,\n",
    "    \"2023-12\":7.42 / 100,\n",
    "    \"2023-11\":7.48 / 100,\n",
    "    \"2023-10\":6.69 / 100,\n",
    "    \"2023-09\":6.00 / 100,\n",
    "    \"2023-08\":5.15 / 100,\n",
    "    \"2023-07\":4.30 / 100,\n",
    "    \"2023-06\":3.25 / 100,\n",
    "    \"2023-05\":2.51 / 100,\n",
    "    \"2023-04\":2.31 / 100,\n",
    "    \"2023-03\":3.51 / 100,\n",
    "    \"2023-02\":10.99 / 100,\n",
    "    \"2023-01\":11.77 / 100,\n",
    "    \"2022-12\":11.94 / 100,\n",
    "    \"2022-11\":11.98 / 100,\n",
    "    \"2022-10\":12.63 / 100,\n",
    "    \"2022-09\":13.68 / 100,\n",
    "    \"2022-08\":14.30 / 100,\n",
    "    \"2022-07\":15.10 / 100,\n",
    "    \"2022-06\":15.90 / 100,\n",
    "    \"2022-05\":17.10 / 100,\n",
    "    \"2022-04\":17.83 / 100,\n",
    "    \"2022-03\":16.69 / 100,\n",
    "    \"2022-02\":9.15 / 100,\n",
    "    \"2022-01\":8.73 / 100,\n",
    "    \"2021-12\":8.39 / 100,\n",
    "    \"2021-11\":8.40 / 100,\n",
    "    \"2021-10\":8.13 / 100,\n",
    "    \"2021-09\":7.40 / 100,\n",
    "    \"2021-08\":6.68 / 100,\n",
    "    \"2021-07\":6.50 / 100,\n",
    "    \"2021-06\":6.50 / 100,\n",
    "    \"2021-05\":6.00 / 100,\n",
    "    \"2021-04\":5.50 / 100,\n",
    "    \"2021-03\":5.80 / 100,\n",
    "    \"2021-02\":5.70 / 100,\n",
    "    \"2021-01\":5.2 / 100,\n",
    "}\n",
    "\n",
    "oae_inflation = {\n",
    "    \"2021-01\": 0.15 / 100,\n",
    "    \"2021-02\": 0.30 / 100,\n",
    "    \"2021-03\": 0.40 / 100,\n",
    "    \"2021-04\": 0.50 / 100,\n",
    "    \"2021-05\": 0.60 / 100,\n",
    "    \"2021-06\": 0.70 / 100,\n",
    "    \"2021-07\": 0.80 / 100,\n",
    "    \"2021-08\": 0.90 / 100,\n",
    "    \"2021-09\": 1.00 / 100,\n",
    "    \"2021-10\": 1.10 / 100,\n",
    "    \"2021-11\": 1.20 / 100,\n",
    "    \"2021-12\": 1.30 / 100,\n",
    "    \"2022-01\": 1.40 / 100,\n",
    "    \"2022-02\": 1.50 / 100,\n",
    "    \"2022-03\": 1.60 / 100,\n",
    "    \"2022-04\": 1.70 / 100,\n",
    "    \"2022-05\": 1.80 / 100,\n",
    "    \"2022-06\": 1.90 / 100,\n",
    "    \"2022-07\": 2.00 / 100,\n",
    "    \"2022-08\": 2.10 / 100,\n",
    "    \"2022-09\": 2.20 / 100,\n",
    "    \"2022-10\": 2.30 / 100,\n",
    "    \"2022-11\": 2.40 / 100,\n",
    "    \"2022-12\": 2.50 / 100,\n",
    "    \"2023-01\": 2.4 / 100,\n",
    "    \"2023-02\": 2.5 / 100,\n",
    "    \"2023-03\": 2.6 / 100,\n",
    "    \"2023-04\": 2.7 / 100,\n",
    "    \"2023-05\": 2.8 / 100,\n",
    "    \"2023-06\": 2.9 / 100,\n",
    "    \"2023-07\": 3.0 / 100,\n",
    "    \"2023-08\": 3.1 / 100,\n",
    "    \"2023-09\": 3.2 / 100,\n",
    "    \"2023-10\": 3.3 / 100,\n",
    "    \"2023-11\": 3.4 / 100,\n",
    "    \"2023-12\": 3.5 / 100,\n",
    "    \"2024-01\": 3.6 / 100,\n",
    "    \"2024-02\": 3.7 / 100,\n",
    "    \"2024-03\": 3.8 / 100,\n",
    "    \"2024-04\": 3.9 / 100,\n",
    "    \"2024-05\": 3.9 / 100,\n",
    "    \"2024-06\": 3.9 / 100,\n",
    "    \"2024-07\": 3.9 / 100,\n",
    "    \"2024-08\": 3.8 / 100,\n",
    "    \"2024-09\": 3.7 / 100,\n",
    "    \"2024-10\": 3.6 / 100,\n",
    "    \"2024-11\": 3.6 / 100,\n",
    "    \"2024-12\": 3.5 / 100,\n",
    "    \"2025-01\": 3.3 / 100,\n",
    "    \"2025-02\": 3.3 / 100,\n",
    "    \"2025-03\": 3.3 / 100,\n",
    "    \"2025-04\": 3.3 / 100,\n",
    "    \"2025-05\": 3.3 / 100,\n",
    "}"
   ]
  },
  {
   "cell_type": "code",
   "execution_count": null,
   "id": "ebc55d960219e3b1",
   "metadata": {
    "ExecuteTime": {
     "end_time": "2024-06-08T18:01:07.127707Z",
     "start_time": "2024-06-08T18:01:07.113836Z"
    }
   },
   "outputs": [],
   "source": [
    "residential_return = merged_data[(merged_data['property_usage'] == 'residential') & (merged_data['year'] > 2004)][['year', 'year_month', 'full_rate_of_return', 'price_change']]\n",
    "\n",
    "residential_return.rename(columns={'full_rate_of_return': 'residential_return'}, inplace=True)\n",
    "residential_return.rename(columns={'price_change': 'residential_capital_return'}, inplace=True)\n",
    "\n",
    "residential_return"
   ]
  },
  {
   "cell_type": "code",
   "execution_count": null,
   "id": "ea5b149e717d3472",
   "metadata": {
    "ExecuteTime": {
     "end_time": "2024-06-08T18:01:16.841014Z",
     "start_time": "2024-06-08T18:01:16.829338Z"
    }
   },
   "outputs": [],
   "source": [
    "commercial_return = merged_data[(merged_data['property_usage'] == 'commercial') & (merged_data['year'] > 2004)][['year', 'year_month', 'full_rate_of_return', 'price_change']]\n",
    "\n",
    "commercial_return.rename(columns={'full_rate_of_return':'commercial_return'}, inplace=True)\n",
    "commercial_return.rename(columns={'price_change':'commercial_capital_return'}, inplace=True)\n",
    "\n",
    "commercial_return"
   ]
  },
  {
   "cell_type": "code",
   "execution_count": null,
   "id": "62d37cd2f207b615",
   "metadata": {
    "ExecuteTime": {
     "end_time": "2024-06-08T18:01:25.735749Z",
     "start_time": "2024-06-08T18:01:25.702038Z"
    }
   },
   "outputs": [],
   "source": [
    "moex = pd.read_csv('MOEX Russia Historical Data.csv', thousands=',')\n",
    "dividends = {\n",
    "    2024: 17.35/12,\n",
    "    2023: 4.84/12,\n",
    "    2022: 0,\n",
    "    2021: 9.45/12,\n",
    "    2020: 7.93/12,\n",
    "}\n",
    "moex['Date'] = pd.to_datetime(moex['Date'], format='%m/%d/%Y')\n",
    "\n",
    "moex['capital_return'] = moex['Price'].pct_change()\n",
    "moex['year_month'] = moex['Date'].dt.to_period('M')\n",
    "moex['year'] = moex['Date'].dt.year\n",
    "moex['return'] = moex.apply(lambda row: row['capital_return'] + (dividends[row['year']] / row['Price']), axis=1)\n",
    "moex['moex_real_return'] = moex.apply(lambda row: ((1 + row['return']) / (1 + rus_inflation[str(row['year_month'])]) - 1), axis=1)\n",
    "\n",
    "moex = moex.drop(columns=['Open','High','Low','Vol.','Change %', 'Price'], axis=1)\n",
    "moex = moex.dropna()\n",
    "\n",
    "moex.rename(columns={'return': 'moex_return'}, inplace=True)\n",
    "\n",
    "moex"
   ]
  },
  {
   "cell_type": "code",
   "execution_count": null,
   "id": "1c6ae482a60f6f80",
   "metadata": {
    "ExecuteTime": {
     "end_time": "2024-06-08T18:01:36.061702Z",
     "start_time": "2024-06-08T18:01:36.032597Z"
    }
   },
   "outputs": [],
   "source": [
    "rtsi = pd.read_csv('RTSI Historical Data.csv', thousands=',')\n",
    "rtsi['Date'] = pd.to_datetime(rtsi['Date'], format='%m/%d/%Y')\n",
    "\n",
    "rtsi['return'] = rtsi['Price'].pct_change()\n",
    "rtsi['year_month'] = rtsi['Date'].dt.to_period('M')\n",
    "rtsi['year'] = rtsi['Date'].dt.year\n",
    "rtsi['rtsi_real_return'] = rtsi.apply(lambda row: ((1 + row['return']) / (1 + rus_inflation[str(row['year_month'])]) - 1), axis=1)\n",
    "\n",
    "rtsi = rtsi.drop(columns=['Open','High','Low','Vol.','Change %', 'Price'], axis=1)\n",
    "rtsi = rtsi.dropna()\n",
    "\n",
    "rtsi.rename(columns={'return': 'rtsi_return'}, inplace=True)\n",
    "\n",
    "rtsi"
   ]
  },
  {
   "cell_type": "code",
   "execution_count": null,
   "id": "4261b428e24450fa",
   "metadata": {
    "ExecuteTime": {
     "end_time": "2024-06-08T18:01:47.068404Z",
     "start_time": "2024-06-08T18:01:47.049474Z"
    }
   },
   "outputs": [],
   "source": [
    "deposits = pd.read_csv('deposits.csv')\n",
    "\n",
    "deposits['year_month'] = deposits['year_month'].apply(lambda x: pd.Period(x, freq='M'))\n",
    "deposits['return'] = ((1 + deposits['annual_return']/100) ** (1/12)) - 1\n",
    "deposits['deposits_real_return'] = deposits.apply(lambda row: ((1 + row['return']) / (1 + rus_inflation[str(row['year_month'])]) - 1), axis=1)\n",
    "\n",
    "deposits.rename(columns={'return': 'deposits_return'}, inplace=True)\n",
    "\n",
    "deposits"
   ]
  },
  {
   "cell_type": "code",
   "execution_count": null,
   "id": "9f84d951664f7f34",
   "metadata": {
    "ExecuteTime": {
     "end_time": "2024-06-09T21:46:15.426856Z",
     "start_time": "2024-06-09T21:46:15.371284Z"
    }
   },
   "outputs": [],
   "source": [
    "rgbitr = pd.read_csv('rgbitr.csv',)\n",
    "rgbitr['date'] = pd.to_datetime(rgbitr['date'], format='%d.%m.%Y')\n",
    "\n",
    "rgbitr['return'] = rgbitr['price'].pct_change()\n",
    "rgbitr['year_month'] = rgbitr['date'].dt.to_period('M')\n",
    "rgbitr['year'] = rgbitr['date'].dt.year\n",
    "rgbitr['rgbitr_real_return'] = rgbitr.apply(lambda row: ((1 + row['return']) / (1 + rus_inflation[str(row['year_month'])]) - 1), axis=1)\n",
    "\n",
    "rgbitr = rgbitr.dropna()\n",
    "\n",
    "rgbitr.rename(columns={'return': 'rgbitr_return'}, inplace=True)\n",
    "\n",
    "rgbitr"
   ]
  },
  {
   "cell_type": "code",
   "execution_count": null,
   "id": "643e9217fe10d320",
   "metadata": {
    "ExecuteTime": {
     "end_time": "2024-06-09T21:49:07.998873Z",
     "start_time": "2024-06-09T21:49:07.916884Z"
    }
   },
   "outputs": [],
   "source": [
    "rucbtrns = pd.read_csv('rucbtrns.csv',)\n",
    "rucbtrns['date'] = pd.to_datetime(rucbtrns['date'], format='%d.%m.%Y')\n",
    "\n",
    "rucbtrns['return'] = rucbtrns['price'].pct_change()\n",
    "rucbtrns['year_month'] = rucbtrns['date'].dt.to_period('M')\n",
    "rucbtrns['year'] = rucbtrns['date'].dt.year\n",
    "rucbtrns['rucbtrns_real_return'] = rucbtrns.apply(lambda row: ((1 + row['return']) / (1 + rus_inflation[str(row['year_month'])]) - 1), axis=1)\n",
    " \n",
    "rucbtrns = rucbtrns.dropna()\n",
    "\n",
    "rucbtrns.rename(columns={'return': 'rucbtrns_return'}, inplace=True)\n",
    "\n",
    "rucbtrns"
   ]
  },
  {
   "cell_type": "code",
   "execution_count": null,
   "id": "1bacbda0dc903f3f",
   "metadata": {
    "ExecuteTime": {
     "end_time": "2024-06-09T21:55:23.493264Z",
     "start_time": "2024-06-09T21:55:23.453295Z"
    }
   },
   "outputs": [],
   "source": [
    "merged_returns = commercial_return[commercial_return['year'] > 2021][['commercial_return', 'commercial_capital_return', 'year_month']].merge(residential_return[residential_return['year'] > 2021][['residential_return', 'residential_capital_return', 'year_month']], on='year_month')\n",
    "merged_returns = merged_returns.merge(rtsi[rtsi['year'] > 2021][['rtsi_return', 'year_month']], on='year_month')\n",
    "merged_returns = merged_returns.merge(moex[moex['year'] > 2021][['moex_return', 'year_month']], on='year_month')\n",
    "merged_returns = merged_returns.merge(deposits[deposits['year_month'] > '2021'][['deposits_return', 'year_month']], on='year_month')\n",
    "merged_returns = merged_returns.merge(rgbitr[rgbitr['year'] > 2021][['rgbitr_return', 'year_month']], on='year_month')\n",
    "merged_returns = merged_returns.merge(rucbtrns[rucbtrns['year'] > 2021][['rucbtrns_return', 'year_month']], on='year_month')\n",
    "\n",
    "merged_returns"
   ]
  },
  {
   "cell_type": "code",
   "execution_count": null,
   "id": "9f347c44567a627",
   "metadata": {
    "ExecuteTime": {
     "end_time": "2024-06-09T22:02:29.152881Z",
     "start_time": "2024-06-09T22:02:28.844655Z"
    }
   },
   "outputs": [],
   "source": [
    "# Построение графика\n",
    "plt.figure(figsize=(12, 6))\n",
    "\n",
    "plot_data_merged = merged_returns\n",
    "\n",
    "plot_data_merged['year_month_str'] = plot_data_merged['year_month'].astype(str)\n",
    "\n",
    "plt.plot(plot_data_merged['year_month_str'], plot_data_merged['deposits_return'] * 100, label='Deposits')\n",
    "plt.plot(plot_data_merged['year_month_str'], plot_data_merged['rgbitr_return'] * 100, label='RGBITR')\n",
    "plt.plot(plot_data_merged['year_month_str'], plot_data_merged['rucbtrns_return'] * 100, label='RUCBTRNS')\n",
    "\n",
    "\n",
    "# plt.title('Rate of Return')\n",
    "plt.xlabel('Year')\n",
    "plt.ylabel('Rate of Return')\n",
    "plt.legend()\n",
    "plt.xticks(rotation=45)\n",
    "plt.grid(True)\n",
    "plt.show()"
   ]
  },
  {
   "cell_type": "code",
   "execution_count": null,
   "id": "2e22ec9f7bf2c22f",
   "metadata": {
    "ExecuteTime": {
     "end_time": "2024-06-09T21:51:26.271509Z",
     "start_time": "2024-06-09T21:51:25.730766Z"
    }
   },
   "outputs": [],
   "source": [
    "# Построение графика\n",
    "plt.figure(figsize=(12, 6))\n",
    "\n",
    "plot_data_merged = merged_returns\n",
    "\n",
    "plot_data_merged['year_month_str'] = plot_data_merged['year_month'].astype(str)\n",
    "\n",
    "plt.plot(plot_data_merged['year_month_str'], plot_data_merged['moex_return'] * 100, label='IMOEX')\n",
    "plt.plot(plot_data_merged['year_month_str'], plot_data_merged['rtsi_return'] * 100, label='RTSI')\n",
    "plt.plot(plot_data_merged['year_month_str'], plot_data_merged['residential_return'] * 100, label='Residential rate of return')\n",
    "plt.plot(plot_data_merged['year_month_str'], plot_data_merged['commercial_return'] * 100, label='Commercial rate of return')\n",
    "plt.plot(plot_data_merged['year_month_str'], plot_data_merged['deposits_return'] * 100, label='Deposits')\n",
    "# plt.plot(plot_data_merged['year_month_str'], plot_data_merged['rgbitr_return'] * 100, label='RGBITR')\n",
    "# plt.plot(plot_data_merged['year_month_str'], plot_data_merged['rucbtrns_return'] * 100, label='RUCBTRNS')\n",
    "\n",
    "\n",
    "plt.title('Rate of Return')\n",
    "plt.xlabel('Year')\n",
    "plt.ylabel('Rate of Return')\n",
    "plt.legend()\n",
    "plt.xticks(rotation=45)\n",
    "plt.grid(True)\n",
    "plt.show()"
   ]
  },
  {
   "cell_type": "code",
   "execution_count": null,
   "id": "19bf4e6ebea72d68",
   "metadata": {
    "ExecuteTime": {
     "end_time": "2024-06-09T21:52:55.390956Z",
     "start_time": "2024-06-09T21:52:54.994518Z"
    }
   },
   "outputs": [],
   "source": [
    "# Построение графика\n",
    "plt.figure(figsize=(12, 6))\n",
    "\n",
    "plot_data_merged = merged_returns\n",
    "\n",
    "plot_data_merged['year_month_str'] = plot_data_merged['year_month'].astype(str)\n",
    "\n",
    "plt.plot(plot_data_merged['year_month_str'], plot_data_merged['moex_return'] * 100, label='IMOEX')\n",
    "plt.plot(plot_data_merged['year_month_str'], plot_data_merged['rtsi_return'] * 100, label='RTSI')\n",
    "plt.plot(plot_data_merged['year_month_str'], plot_data_merged['residential_capital_return'] * 100, label='Residential capital return')\n",
    "plt.plot(plot_data_merged['year_month_str'], plot_data_merged['commercial_capital_return'] * 100, label='Commercial capital return')\n",
    "plt.plot(plot_data_merged['year_month_str'], plot_data_merged['deposits_return'] * 100, label='Deposits')\n",
    "# plt.plot(plot_data_merged['year_month_str'], plot_data_merged['rgbitr_return'] * 100, label='RGBITR')\n",
    "# plt.plot(plot_data_merged['year_month_str'], plot_data_merged['rucbtrns_return'] * 100, label='RUCBTRNS')\n",
    "\n",
    "\n",
    "plt.title('Rate of Return')\n",
    "plt.xlabel('Year')\n",
    "plt.ylabel('Rate of Return')\n",
    "plt.legend()\n",
    "plt.xticks(rotation=45)\n",
    "plt.grid(True)\n",
    "plt.show()"
   ]
  },
  {
   "cell_type": "code",
   "execution_count": null,
   "id": "5b78ebac4d7bde29",
   "metadata": {
    "ExecuteTime": {
     "end_time": "2024-06-09T21:53:55.067388Z",
     "start_time": "2024-06-09T21:53:55.046983Z"
    }
   },
   "outputs": [],
   "source": [
    "exchange_rate = pd.read_csv('AED_RUB Historical Data.csv')\n",
    "\n",
    "exchange_rate['Date'] = pd.to_datetime(exchange_rate['Date'], format='%m/%d/%Y')\n",
    "\n",
    "exchange_rate['exchange_rate_return'] = exchange_rate['Price'].pct_change()\n",
    "exchange_rate['year_month'] = exchange_rate['Date'].dt.to_period('M')\n",
    "\n",
    "exchange_rate = exchange_rate[['year_month', 'exchange_rate_return']]"
   ]
  },
  {
   "cell_type": "code",
   "execution_count": null,
   "id": "8d92f4e165fe5699",
   "metadata": {
    "ExecuteTime": {
     "end_time": "2024-06-09T22:42:37.934889Z",
     "start_time": "2024-06-09T22:42:37.876516Z"
    }
   },
   "outputs": [],
   "source": [
    "commercial_return_new = commercial_return.loc[commercial_return['year'] > 2021].copy()\n",
    "residential_return_new = residential_return.loc[residential_return['year'] > 2021].copy()\n",
    "\n",
    "commercial_return_new['commercial_real_return'] = commercial_return_new.apply(lambda row: ((1 + row['commercial_return']) / (1 + oae_inflation[str(row['year_month'])]) - 1), axis=1)\n",
    "commercial_return_new['commercial_capital_real_return'] = commercial_return_new.apply(lambda row: ((1 + row['commercial_capital_return']) / (1 + oae_inflation[str(row['year_month'])]) - 1), axis=1)\n",
    "\n",
    "residential_return_new['residential_real_return'] = residential_return_new.apply(lambda row: ((1 + row['residential_return']) / (1 + oae_inflation[str(row['year_month'])]) - 1), axis=1)\n",
    "residential_return_new['residential_capital_real_return'] = residential_return_new.apply(lambda row: ((1 + row['residential_capital_return']) / (1 + oae_inflation[str(row['year_month'])]) - 1), axis=1)\n",
    "\n",
    "commercial_return_new = commercial_return_new.merge(exchange_rate, on='year_month', how='left')\n",
    "\n",
    "\n",
    "commercial_return_new['commercial_real_return_rub'] = ((1 + commercial_return_new['commercial_real_return']) * (1 + commercial_return_new['exchange_rate_return']) - 1)\n",
    "commercial_return_new['commercial_capital_real_return_rub'] = ((1 + commercial_return_new['commercial_capital_real_return']) * (1 + commercial_return_new['exchange_rate_return']) - 1)\n",
    "\n",
    "residential_return_new = residential_return_new.merge(exchange_rate, on='year_month', how='left')\n",
    "\n",
    "residential_return_new['residential_real_return_rub'] = ((1 + residential_return_new['residential_real_return']) * (1 + residential_return_new['exchange_rate_return']) - 1)\n",
    "residential_return_new['residential_capital_real_return_rub'] = ((1 + residential_return_new['residential_capital_real_return']) * (1 + residential_return_new['exchange_rate_return']) - 1)\n",
    "\n",
    "commercial_return_new"
   ]
  },
  {
   "cell_type": "code",
   "execution_count": null,
   "id": "791a0ad8431304d3",
   "metadata": {
    "ExecuteTime": {
     "end_time": "2024-06-09T22:42:38.010897Z",
     "start_time": "2024-06-09T22:42:37.938174Z"
    }
   },
   "outputs": [],
   "source": [
    "merged_returns = commercial_return_new[commercial_return_new['year'] > 2021][\n",
    "    ['commercial_real_return_rub',\n",
    "     'commercial_real_return', \n",
    "     'year_month', \n",
    "     'commercial_capital_real_return', \n",
    "     'commercial_capital_real_return_rub']\n",
    "].merge(\n",
    "    residential_return_new[residential_return_new['year'] > 2021][\n",
    "        [\n",
    "            'residential_real_return_rub', \n",
    "            'residential_real_return', \n",
    "            'year_month',\n",
    "            'residential_capital_real_return',\n",
    "            'residential_capital_real_return_rub']\n",
    "    ], on='year_month')\n",
    "merged_returns = merged_returns.merge(rtsi[rtsi['year'] > 2021][['rtsi_real_return', 'year_month']], on='year_month')\n",
    "merged_returns = merged_returns.merge(moex[moex['year'] > 2021][['moex_real_return', 'year_month']], on='year_month')\n",
    "merged_returns = merged_returns.merge(deposits[deposits['year_month'] > '2021'][['deposits_real_return', 'year_month']], on='year_month')\n",
    "merged_returns = merged_returns.merge(rgbitr[rgbitr['year_month'] > '2021'][['rgbitr_real_return', 'year_month']], on='year_month')\n",
    "merged_returns = merged_returns.merge(rucbtrns[rucbtrns['year_month'] > '2021'][['rucbtrns_real_return', 'year_month']], on='year_month')\n",
    "\n",
    "merged_returns"
   ]
  },
  {
   "cell_type": "code",
   "execution_count": null,
   "id": "e01124254c98a532",
   "metadata": {
    "ExecuteTime": {
     "end_time": "2024-06-08T21:06:50.146590Z",
     "start_time": "2024-06-08T21:06:49.727408Z"
    }
   },
   "outputs": [],
   "source": [
    "# Построение графика\n",
    "plt.figure(figsize=(12, 6))\n",
    "\n",
    "plot_data_merged = merged_returns\n",
    "\n",
    "plot_data_merged['year_month_str'] = plot_data_merged['year_month'].astype(str)\n",
    "\n",
    "plt.plot(plot_data_merged['year_month_str'], plot_data_merged['moex_real_return'] * 100, label='IMOEX')\n",
    "plt.plot(plot_data_merged['year_month_str'], plot_data_merged['rtsi_real_return'] * 100, label='RTSI')\n",
    "plt.plot(plot_data_merged['year_month_str'], plot_data_merged['residential_real_return'] * 100, label='Residential rate of return')\n",
    "plt.plot(plot_data_merged['year_month_str'], plot_data_merged['commercial_real_return'] * 100, label='Commercial rate of return')\n",
    "plt.plot(plot_data_merged['year_month_str'], plot_data_merged['deposits_real_return'] * 100, label='Deposits')\n",
    "\n",
    "\n",
    "plt.title('Investment Real Returns')\n",
    "plt.xlabel('Year')\n",
    "plt.ylabel('Rate of Return')\n",
    "plt.legend()\n",
    "plt.xticks(rotation=45)\n",
    "plt.grid(True)\n",
    "plt.show()"
   ]
  },
  {
   "cell_type": "code",
   "execution_count": null,
   "id": "4b2dd9ed57c374e6",
   "metadata": {
    "ExecuteTime": {
     "end_time": "2024-06-08T21:07:15.257959Z",
     "start_time": "2024-06-08T21:07:14.839225Z"
    }
   },
   "outputs": [],
   "source": [
    "# Построение графика\n",
    "plt.figure(figsize=(12, 6))\n",
    "\n",
    "plot_data_merged = merged_returns\n",
    "\n",
    "plot_data_merged['year_month_str'] = plot_data_merged['year_month'].astype(str)\n",
    "\n",
    "plt.plot(plot_data_merged['year_month_str'], plot_data_merged['moex_real_return'] * 100, label='IMOEX')\n",
    "plt.plot(plot_data_merged['year_month_str'], plot_data_merged['rtsi_real_return'] * 100, label='RTSI')\n",
    "plt.plot(plot_data_merged['year_month_str'], plot_data_merged['residential_capital_real_return'] * 100, label='Residential capital return')\n",
    "plt.plot(plot_data_merged['year_month_str'], plot_data_merged['commercial_capital_real_return'] * 100, label='Commercial capital return')\n",
    "plt.plot(plot_data_merged['year_month_str'], plot_data_merged['deposits_real_return'] * 100, label='Deposits')\n",
    "\n",
    "plt.title('Investment Real Returns')\n",
    "plt.xlabel('Year')\n",
    "plt.ylabel('Rate of Return')\n",
    "plt.legend()\n",
    "plt.xticks(rotation=45)\n",
    "plt.grid(True)\n",
    "plt.show()"
   ]
  },
  {
   "cell_type": "code",
   "execution_count": null,
   "id": "96a3e902c5c75f6e",
   "metadata": {
    "ExecuteTime": {
     "end_time": "2024-06-09T22:42:40.870464Z",
     "start_time": "2024-06-09T22:42:40.576550Z"
    }
   },
   "outputs": [],
   "source": [
    "# Построение графика\n",
    "plt.figure(figsize=(12, 6))\n",
    "\n",
    "plot_data_merged = merged_returns\n",
    "\n",
    "plot_data_merged['year_month_str'] = plot_data_merged['year_month'].astype(str)\n",
    "\n",
    "# plt.plot(plot_data_merged['year_month_str'], plot_data_merged['moex_real_return'] * 100, label='IMOEX')\n",
    "# plt.plot(plot_data_merged['year_month_str'], plot_data_merged['rtsi_real_return'] * 100, label='RTSI')\n",
    "plt.plot(plot_data_merged['year_month_str'], plot_data_merged['residential_real_return_rub'] * 100, label='Residential rate of return')\n",
    "plt.plot(plot_data_merged['year_month_str'], plot_data_merged['commercial_real_return_rub'] * 100, label='Commercial rate of return')\n",
    "# plt.plot(plot_data_merged['year_month_str'], plot_data_merged['deposits_real_return'] * 100, label='Deposits')\n",
    "\n",
    "plt.title('Real Rate of Returns')\n",
    "plt.xlabel('Year')\n",
    "plt.ylabel('Rate of Return in RUB')\n",
    "plt.legend()\n",
    "plt.xticks(rotation=45)\n",
    "plt.grid(True)\n",
    "plt.show()"
   ]
  },
  {
   "cell_type": "code",
   "execution_count": null,
   "id": "a60610a6c83ded8e",
   "metadata": {
    "ExecuteTime": {
     "end_time": "2024-06-08T21:07:46.768400Z",
     "start_time": "2024-06-08T21:07:46.400993Z"
    }
   },
   "outputs": [],
   "source": [
    "# Построение графика\n",
    "plt.figure(figsize=(12, 6))\n",
    "\n",
    "plot_data_merged = merged_returns\n",
    "\n",
    "plot_data_merged['year_month_str'] = plot_data_merged['year_month'].astype(str)\n",
    "\n",
    "plt.plot(plot_data_merged['year_month_str'], plot_data_merged['moex_real_return'] * 100, label='IMOEX')\n",
    "plt.plot(plot_data_merged['year_month_str'], plot_data_merged['rtsi_real_return'] * 100, label='RTSI')\n",
    "plt.plot(plot_data_merged['year_month_str'], plot_data_merged['residential_capital_real_return_rub'] * 100, label='Residential capital return')\n",
    "plt.plot(plot_data_merged['year_month_str'], plot_data_merged['commercial_capital_real_return_rub'] * 100, label='Commercial capital return')\n",
    "plt.plot(plot_data_merged['year_month_str'], plot_data_merged['deposits_real_return'] * 100, label='Deposits')\n",
    "\n",
    "plt.title('Real Rate of Returns')\n",
    "plt.xlabel('Year')\n",
    "plt.ylabel('Rate of Return in RUB')\n",
    "plt.legend()\n",
    "plt.xticks(rotation=45)\n",
    "plt.grid(True)\n",
    "plt.show()"
   ]
  },
  {
   "cell_type": "code",
   "execution_count": null,
   "id": "11315bd6a1f81c6d",
   "metadata": {
    "ExecuteTime": {
     "end_time": "2024-06-08T21:15:44.738373Z",
     "start_time": "2024-06-08T21:15:44.453850Z"
    }
   },
   "outputs": [],
   "source": [
    "capital = 1000\n",
    "\n",
    "for rate in moex[moex['year'] > 2021].sort_values(by='Date')['moex_real_return']:\n",
    "    capital = capital * (1 + ((1+rate) ** (1/12) - 1))\n",
    "\n",
    "capital"
   ]
  },
  {
   "cell_type": "code",
   "execution_count": null,
   "id": "2063c17768fdd8c3",
   "metadata": {
    "ExecuteTime": {
     "end_time": "2024-06-08T21:15:35.448865Z",
     "start_time": "2024-06-08T21:15:35.415727Z"
    }
   },
   "outputs": [],
   "source": [
    "capital = 1000\n",
    "\n",
    "for rate in rtsi[rtsi['year'] > 2021].sort_values(by='Date')['rtsi_real_return']:\n",
    "    capital = capital * (1 + ((1+rate) ** (1/12) - 1))\n",
    "\n",
    "capital"
   ]
  },
  {
   "cell_type": "code",
   "execution_count": null,
   "id": "8e2998fba2b10aaf",
   "metadata": {
    "ExecuteTime": {
     "end_time": "2024-06-08T21:15:35.445736Z",
     "start_time": "2024-06-08T21:15:35.410722Z"
    }
   },
   "outputs": [],
   "source": [
    "capital = 1000\n",
    "\n",
    "for rate in residential_return_new.sort_values(by='year_month')['residential_real_return_rub']:\n",
    "    capital = capital * (1 + ((1+rate) ** (1/12) - 1))\n",
    "\n",
    "capital"
   ]
  },
  {
   "cell_type": "code",
   "execution_count": null,
   "id": "a7eda5cea1076e11",
   "metadata": {
    "ExecuteTime": {
     "end_time": "2024-06-08T21:15:35.409393Z",
     "start_time": "2024-06-08T21:15:35.405310Z"
    }
   },
   "outputs": [],
   "source": [
    "capital = 1000\n",
    "\n",
    "for rate in commercial_return_new.sort_values(by='year_month')['commercial_real_return_rub']:\n",
    "    capital = capital * (1 + ((1+rate) ** (1/12) - 1))\n",
    "\n",
    "capital"
   ]
  },
  {
   "cell_type": "code",
   "execution_count": null,
   "id": "35b62fc224cf26c5",
   "metadata": {
    "ExecuteTime": {
     "end_time": "2024-06-08T21:15:35.404570Z",
     "start_time": "2024-06-08T21:15:35.398593Z"
    }
   },
   "outputs": [],
   "source": [
    "capital = 1000\n",
    "\n",
    "for rate in deposits[deposits['year_month'] > '2021'].sort_values(by='year_month')['deposits_real_return']:\n",
    "    capital = capital * (1 + ((1+rate) ** (1/12) - 1))\n",
    "\n",
    "capital"
   ]
  },
  {
   "cell_type": "code",
   "execution_count": null,
   "id": "3fe4b978110e3104",
   "metadata": {
    "ExecuteTime": {
     "end_time": "2024-06-08T21:15:35.395376Z",
     "start_time": "2024-06-08T21:15:35.391913Z"
    }
   },
   "outputs": [],
   "source": [
    "capital = 1000\n",
    "\n",
    "for rate in residential_return_new.sort_values(by='year_month')['residential_capital_real_return_rub']:\n",
    "    capital = capital * (1 + ((1+rate) ** (1/12) - 1))\n",
    "\n",
    "capital"
   ]
  },
  {
   "cell_type": "code",
   "execution_count": null,
   "id": "1b4173d1cccb05df",
   "metadata": {
    "ExecuteTime": {
     "end_time": "2024-06-08T21:15:23.042337Z",
     "start_time": "2024-06-08T21:15:22.921621Z"
    }
   },
   "outputs": [],
   "source": [
    "capital = 1000\n",
    "\n",
    "for rate in commercial_return_new.sort_values(by='year_month')['commercial_capital_real_return_rub']:\n",
    "    capital = capital * (1 + ((1+rate) ** (1/12) - 1))\n",
    "\n",
    "capital"
   ]
  },
  {
   "cell_type": "code",
   "execution_count": null,
   "id": "8dfa4a36ff50080d",
   "metadata": {
    "ExecuteTime": {
     "end_time": "2024-06-08T21:32:03.633618Z",
     "start_time": "2024-06-08T21:32:03.601753Z"
    }
   },
   "outputs": [],
   "source": [
    "predicted_transactions = pd.read_csv('predicted_12m.csv')\n",
    "\n",
    "predicted_transactions['date'] = pd.to_datetime(predicted_transactions['date'])\n",
    "\n",
    "predicted_transactions['year_month'] = predicted_transactions['date'].dt.to_period('M')\n",
    "grouped_sale_predicted = predicted_transactions[predicted_transactions['year_month'].isin(grouped_rent['year_month'])]\n",
    "\n",
    "# \n",
    "grouped_sale_predicted"
   ]
  },
  {
   "cell_type": "code",
   "execution_count": null,
   "id": "229f062727a68b09",
   "metadata": {
    "ExecuteTime": {
     "end_time": "2024-06-08T21:32:25.959171Z",
     "start_time": "2024-06-08T21:32:17.809757Z"
    }
   },
   "outputs": [],
   "source": [
    "grouped_rent_for_prediction = rent_data.groupby(['year_month', 'property_usage']).apply(lambda x: pd.Series({\n",
    "        'annual_amount': trimmed_mean(x['annual_amount'], proportion_to_cut=0.1),\n",
    "        'actual_area': trimmed_mean(x['actual_area'], proportion_to_cut=0.1)\n",
    "    })).reset_index()\n",
    "grouped_rent_for_prediction.rename(columns={'annual_amount': 'average_annual_amount'}, inplace=True)\n",
    "# \n",
    "grouped_rent_for_prediction"
   ]
  },
  {
   "cell_type": "code",
   "execution_count": null,
   "id": "48b8b2f088220ee1",
   "metadata": {
    "ExecuteTime": {
     "end_time": "2024-06-08T21:32:25.981974Z",
     "start_time": "2024-06-08T21:32:25.963776Z"
    }
   },
   "outputs": [],
   "source": [
    "merged_data_predicted = pd.merge(grouped_rent_for_prediction, grouped_sale_predicted, on=['year_month', 'property_usage'])\n",
    "merged_data_predicted['year'] = merged_data_predicted['date'].dt.year\n",
    "\n",
    "merged_data_predicted = pd.merge(merged_data_predicted, inflation_data, on='year')\n",
    "\n",
    "merged_data_predicted = merged_data_predicted[merged_data_predicted['year_month'] > '2024-04']"
   ]
  },
  {
   "cell_type": "code",
   "execution_count": null,
   "id": "e62f127a4ee1b1fa",
   "metadata": {
    "ExecuteTime": {
     "end_time": "2024-06-08T21:32:26.023804Z",
     "start_time": "2024-06-08T21:32:25.981735Z"
    }
   },
   "outputs": [],
   "source": [
    "merged_data_predicted['predicted_sale_price'] = merged_data_predicted['predicted_mean'] * merged_data_predicted['actual_area']\n",
    "\n",
    "merged_data_predicted.loc[(merged_data_predicted['year_month'] == '2024-06') & (merged_data_predicted['property_usage'] == 'commercial'), 'average_annual_amount'] = 203775.939024\n",
    "\n",
    "merged_data_predicted"
   ]
  },
  {
   "cell_type": "code",
   "execution_count": null,
   "id": "8d4df777650820ff",
   "metadata": {
    "ExecuteTime": {
     "end_time": "2024-06-08T21:32:26.026939Z",
     "start_time": "2024-06-08T21:32:26.005136Z"
    }
   },
   "outputs": [],
   "source": [
    "merged_data_predicted['year'] = merged_data_predicted['year'].astype(int)\n",
    "\n",
    "merged_data_predicted['rate_of_return'] = (((merged_data_predicted['average_annual_amount'] * (1 + merged_data_predicted['inflation'])) / merged_data_predicted['predicted_sale_price']) + merged_data_predicted['inflation'])\n",
    "\n",
    "merged_data_predicted"
   ]
  },
  {
   "cell_type": "code",
   "execution_count": null,
   "id": "6b22938687f6c1b4",
   "metadata": {
    "ExecuteTime": {
     "end_time": "2024-06-08T21:32:35.805143Z",
     "start_time": "2024-06-08T21:32:35.603507Z"
    }
   },
   "outputs": [],
   "source": [
    "import matplotlib.pyplot as plt\n",
    "\n",
    "plot_data = merged_data_predicted\n",
    "\n",
    "# # Построение графика\n",
    "plt.figure(figsize=(12, 6))\n",
    "\n",
    "# # Уникальные типы недвижимости\n",
    "property_usages = plot_data['property_usage'].unique()\n",
    "# \n",
    "# # Построение графиков для каждого типа недвижимости\n",
    "plot_data['year_month'] = plot_data['year_month'].astype(str)\n",
    "\n",
    "# Построение графика\n",
    "for property_usage in ['residential', 'commercial']:\n",
    "    subset = plot_data[plot_data['property_usage'] == property_usage]\n",
    "    plt.plot(subset['year_month'], subset['rate_of_return'] * 100, marker='o', label=property_usage)\n",
    "# \n",
    "plt.title('Rate of Return for each year')\n",
    "plt.xlabel('Year')\n",
    "plt.ylabel('Rate of Return')\n",
    "plt.legend()\n",
    "plt.grid(True)\n",
    "plt.show()"
   ]
  },
  {
   "cell_type": "code",
   "execution_count": null,
   "id": "5ad75b6a52d82e2f",
   "metadata": {
    "ExecuteTime": {
     "end_time": "2024-06-08T21:32:52.806710Z",
     "start_time": "2024-06-08T21:32:52.800120Z"
    }
   },
   "outputs": [],
   "source": [
    "merged_data_predicted['year_month'] = merged_data_predicted['year_month'].astype(str)\n",
    "exchange_rate_new = exchange_rate\n",
    "exchange_rate_new['year_month'] = exchange_rate_new['year_month'].astype(str)\n",
    "merged_data_predicted = merged_data_predicted.merge(exchange_rate, on='year_month', how='left')"
   ]
  },
  {
   "cell_type": "code",
   "execution_count": null,
   "id": "26ffd95b17905044",
   "metadata": {
    "ExecuteTime": {
     "end_time": "2024-06-08T21:33:02.988579Z",
     "start_time": "2024-06-08T21:33:02.982633Z"
    }
   },
   "outputs": [],
   "source": [
    "merged_data_predicted['real_return'] = merged_data_predicted.apply(lambda row: ((1 + row['rate_of_return']) / (1 + oae_inflation[str(row['year_month'])]) - 1), axis=1)\n",
    "\n",
    "merged_data_predicted['real_return_rub'] = ((1 + merged_data_predicted['real_return']) * (1 + merged_data_predicted['exchange_rate_return']) - 1)\n",
    "\n",
    "merged_data_predicted"
   ]
  },
  {
   "cell_type": "code",
   "execution_count": null,
   "id": "22691055d903654c",
   "metadata": {
    "ExecuteTime": {
     "end_time": "2024-06-08T21:33:03.217001Z",
     "start_time": "2024-06-08T21:33:02.986087Z"
    }
   },
   "outputs": [],
   "source": [
    "# Построение графика\n",
    "plt.figure(figsize=(12, 6))\n",
    "\n",
    "plot_data_merged = merged_data_predicted\n",
    "\n",
    "plot_data_merged['year_month_str'] = plot_data_merged['year_month'].astype(str)\n",
    "\n",
    "res = plot_data_merged.loc[plot_data_merged['property_usage'] == 'residential']\n",
    "com = plot_data_merged.loc[plot_data_merged['property_usage'] == 'commercial']\n",
    "\n",
    "plt.plot(res['year_month_str'], res['real_return'] * 100, label='Residential real estate')\n",
    "plt.plot(com['year_month_str'], com['real_return'] * 100, label='Commercial real estate')\n",
    "\n",
    "plt.title('Real Rate of Returns')\n",
    "plt.xlabel('Year')\n",
    "plt.ylabel('Rate of Return')\n",
    "plt.legend()\n",
    "plt.xticks(rotation=45)\n",
    "plt.grid(True)\n",
    "plt.show()"
   ]
  },
  {
   "cell_type": "code",
   "execution_count": null,
   "id": "f049d27d1e8ba31",
   "metadata": {
    "ExecuteTime": {
     "end_time": "2024-06-08T21:33:03.381809Z",
     "start_time": "2024-06-08T21:33:03.202817Z"
    }
   },
   "outputs": [],
   "source": [
    "# Построение графика\n",
    "plt.figure(figsize=(12, 6))\n",
    "\n",
    "plot_data_merged = merged_data_predicted\n",
    "\n",
    "plot_data_merged['year_month_str'] = plot_data_merged['year_month'].astype(str)\n",
    "\n",
    "res = plot_data_merged.loc[plot_data_merged['property_usage'] == 'residential']\n",
    "com = plot_data_merged.loc[plot_data_merged['property_usage'] == 'commercial']\n",
    "\n",
    "plt.plot(res['year_month_str'], res['real_return_rub'] * 100, label='Residential real estate')\n",
    "plt.plot(com['year_month_str'], com['real_return_rub'] * 100, label='Commercial real estate')\n",
    "\n",
    "plt.title('Real Rate of Returns')\n",
    "plt.xlabel('Year')\n",
    "plt.ylabel('Rate of Return in RUB')\n",
    "plt.legend()\n",
    "plt.xticks(rotation=45)\n",
    "plt.grid(True)\n",
    "plt.show()"
   ]
  },
  {
   "cell_type": "code",
   "execution_count": null,
   "id": "698af180abf41e01",
   "metadata": {
    "ExecuteTime": {
     "end_time": "2024-06-08T19:58:12.744671Z",
     "start_time": "2024-06-08T19:58:12.739014Z"
    }
   },
   "outputs": [],
   "source": []
  },
  {
   "cell_type": "code",
   "execution_count": null,
   "id": "4c492b8c23206227",
   "metadata": {},
   "outputs": [],
   "source": []
  },
  {
   "cell_type": "code",
   "execution_count": null,
   "id": "1112fa3e6effdbab",
   "metadata": {
    "ExecuteTime": {
     "end_time": "2024-06-08T20:01:37.494952Z",
     "start_time": "2024-06-08T20:01:37.423749Z"
    }
   },
   "outputs": [],
   "source": [
    "reit = pd.read_csv('REIT Historical Data (1).csv', thousands=',')\n",
    "\n",
    "reit['Date'] = pd.to_datetime(reit['Date'], format='%m/%d/%Y')\n",
    "\n",
    "reit['capital_return'] = reit['Price'].pct_change()\n",
    "reit['year_month'] = reit['Date'].dt.to_period('M')\n",
    "reit['year'] = reit['Date'].dt.year\n",
    "reit['return'] = reit['capital_return']\n",
    "reit['reit_real_return'] = reit.apply(lambda row: ((1 + row['return']) / (1 + oae_inflation[str(row['year_month'])]) - 1), axis=1)\n",
    "\n",
    "reit = reit.drop(columns=['Open','High','Low','Vol.','Change %', 'Price'], axis=1)\n",
    "reit = reit.dropna()\n",
    "\n",
    "reit.rename(columns={'return': 'reit_return'}, inplace=True)\n",
    "\n",
    "reit"
   ]
  },
  {
   "cell_type": "code",
   "execution_count": null,
   "id": "518ed13bcd079466",
   "metadata": {
    "ExecuteTime": {
     "end_time": "2024-06-08T20:03:07.207253Z",
     "start_time": "2024-06-08T20:03:07.150011Z"
    }
   },
   "outputs": [],
   "source": [
    "merged_returns = commercial_return_new[commercial_return_new['year'] > 2021][\n",
    "    ['commercial_real_return_rub',\n",
    "     'commercial_real_return', \n",
    "     'year_month', \n",
    "     'commercial_capital_real_return', \n",
    "     'commercial_capital_real_return_rub']\n",
    "].merge(\n",
    "    residential_return_new[residential_return_new['year'] > 2021][\n",
    "        [\n",
    "            'residential_real_return_rub', \n",
    "            'residential_real_return', \n",
    "            'year_month',\n",
    "            'residential_capital_real_return',\n",
    "            'residential_capital_real_return_rub']\n",
    "    ], on='year_month')\n",
    "merged_returns = merged_returns.merge(reit[reit['year'] > 2021][['reit_real_return', 'year_month']], on='year_month')"
   ]
  },
  {
   "cell_type": "code",
   "execution_count": null,
   "id": "ce6a2698da00477d",
   "metadata": {
    "ExecuteTime": {
     "end_time": "2024-06-08T20:03:34.007196Z",
     "start_time": "2024-06-08T20:03:33.444158Z"
    }
   },
   "outputs": [],
   "source": [
    "# Построение графика\n",
    "plt.figure(figsize=(12, 6))\n",
    "\n",
    "plot_data_merged = merged_returns\n",
    "\n",
    "plot_data_merged['year_month_str'] = plot_data_merged['year_month'].astype(str)\n",
    "\n",
    "plt.plot(plot_data_merged['year_month_str'], plot_data_merged['reit_real_return'] * 100, label='Emirates REIT CEIC')\n",
    "plt.plot(plot_data_merged['year_month_str'], plot_data_merged['residential_real_return_rub'] * 100, label='Residential rate of return')\n",
    "plt.plot(plot_data_merged['year_month_str'], plot_data_merged['commercial_real_return_rub'] * 100, label='Commercial rate of return')\n",
    "\n",
    "plt.title('Real Rate of Returns')\n",
    "plt.xlabel('Year')\n",
    "plt.ylabel('Rate of Return')\n",
    "plt.legend()\n",
    "plt.xticks(rotation=45)\n",
    "plt.grid(True)\n",
    "plt.show()"
   ]
  },
  {
   "cell_type": "code",
   "execution_count": null,
   "id": "c8995f05e68a698d",
   "metadata": {},
   "outputs": [],
   "source": []
  }
 ],
 "metadata": {
  "kernelspec": {
   "display_name": "Python 3",
   "language": "python",
   "name": "python3"
  },
  "language_info": {
   "codemirror_mode": {
    "name": "ipython",
    "version": 2
   },
   "file_extension": ".py",
   "mimetype": "text/x-python",
   "name": "python",
   "nbconvert_exporter": "python",
   "pygments_lexer": "ipython2",
   "version": "2.7.6"
  }
 },
 "nbformat": 4,
 "nbformat_minor": 5
}
